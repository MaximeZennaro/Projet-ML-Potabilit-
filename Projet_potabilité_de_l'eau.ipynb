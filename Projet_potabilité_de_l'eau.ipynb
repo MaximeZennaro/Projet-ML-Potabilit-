{
 "cells": [
  {
   "cell_type": "markdown",
   "metadata": {
    "id": "C8keEnmrpzcA"
   },
   "source": [
    "### Projet Machine Learning"
   ]
  },
  {
   "cell_type": "markdown",
   "metadata": {
    "id": "HIkGaF_tsjRo"
   },
   "source": [
    "<center><img src='https://netacad.centralesupelec.fr/img/cs.jpg' width=200></center>\n",
    "\n",
    "<h1>\n",
    "<hr style=\" border:none; height:3px;\">\n",
    "<center>Projet Machine Learning - Potabilité de l'eau</center>\n",
    "<hr style=\" border:none; height:3px;\">\n",
    "</h1>"
   ]
  },
  {
   "cell_type": "code",
   "execution_count": null,
   "metadata": {
    "id": "nyFagpPDsR88"
   },
   "outputs": [],
   "source": []
  },
  {
   "cell_type": "code",
   "execution_count": 2,
   "metadata": {
    "id": "7y8N1SV6p2cu"
   },
   "outputs": [],
   "source": [
    "# Python ≥3.5 is required\n",
    "import sys\n",
    "assert sys.version_info >= (3, 5)\n",
    "import os\n",
    "\n",
    "# Scikit-Learn ≥0.20 is required\n",
    "import sklearn\n",
    "assert sklearn.__version__ >= \"0.20\"\n",
    "\n",
    "# Numpy arrays are used to store training and test data.\n",
    "import numpy as np\n",
    "\n",
    "# Pandas is used to manipulate tabular data.\n",
    "import pandas as pd\n",
    "\n",
    "# Matplotlib is used to plot graphs.\n",
    "%matplotlib inline \n",
    "import matplotlib as mpl\n",
    "import matplotlib.pyplot as plt\n",
    "# Style options for plots.\n",
    "mpl.rc('axes', labelsize=14)\n",
    "mpl.rc('xtick', labelsize=12)\n",
    "mpl.rc('ytick', labelsize=12)\n",
    "\n",
    "# Ignore useless warnings (see SciPy issue #5998).\n",
    "import warnings\n",
    "warnings.filterwarnings(action=\"ignore\", message=\"^internal gelsd\")\n",
    "\n",
    "# Convenience function to create display a progress bar.\n",
    "# Source : https://stackoverflow.com/questions/3173320/text-progress-bar-in-the-console\n",
    "def print_progress_bar (iteration, total, prefix = '', suffix = '', decimals = 1, length = 100, fill = '█', printEnd = \"\\r\"):\n",
    "    \"\"\"\n",
    "    Call in a loop to create terminal progress bar\n",
    "    @params:\n",
    "        iteration   - Required  : current iteration (Int)\n",
    "        total       - Required  : total iterations (Int)\n",
    "        prefix      - Optional  : prefix string (Str)\n",
    "        suffix      - Optional  : suffix string (Str)\n",
    "        decimals    - Optional  : positive number of decimals in percent complete (Int)\n",
    "        length      - Optional  : character length of bar (Int)\n",
    "        fill        - Optional  : bar fill character (Str)\n",
    "        printEnd    - Optional  : end character (e.g. \"\\r\", \"\\r\\n\") (Str)\n",
    "    \"\"\"\n",
    "    percent = (\"{0:.\" + str(decimals) + \"f}\").format(100 * (iteration / float(total)))\n",
    "    filledLength = int(length * iteration // total)\n",
    "    bar = fill * filledLength + '-' * (length - filledLength)\n",
    "    print(f'\\r{prefix} |{bar}| {percent}% {suffix}', end = printEnd)\n",
    "    # Print New Line on Complete\n",
    "    if iteration == total: \n",
    "        print()\n",
    " \n",
    "# Saves a figure to a file\n",
    "def save_fig(fig_id, tight_layout=True, fig_extension=\"png\", resolution=300):\n",
    "    path = os.path.join(\"./figs\", fig_id + \".\" + fig_extension)\n",
    "    print(\"Saving figure\", fig_id)\n",
    "    if tight_layout:\n",
    "        plt.tight_layout()\n",
    "    plt.savefig(path, format=fig_extension, dpi=resolution)\n"
   ]
  },
  {
   "cell_type": "markdown",
   "metadata": {
    "id": "jnd6CCceszQg"
   },
   "source": [
    "## Drinking Water Potability Dataset\n"
   ]
  },
  {
   "cell_type": "code",
   "execution_count": 3,
   "metadata": {
    "colab": {
     "base_uri": "https://localhost:8080/",
     "height": 441
    },
    "id": "CZ8ywqzYst5b",
    "outputId": "6dcd8bea-dbb6-4d0f-b21e-d075ff804f0b"
   },
   "outputs": [],
   "source": [
    "PATH = \"data/\"\n",
    "csv_path = os.path.join(PATH, \"drinking_water_potability.csv\")\n",
    "drinking_water_potability = pd.read_csv(csv_path)"
   ]
  },
  {
   "cell_type": "code",
   "execution_count": 4,
   "metadata": {
    "colab": {
     "base_uri": "https://localhost:8080/",
     "height": 206
    },
    "id": "4s4uKLUJul8R",
    "outputId": "710becd3-1b6b-4985-cb77-00f9565e6bb7"
   },
   "outputs": [
    {
     "data": {
      "text/html": [
       "<div>\n",
       "<style scoped>\n",
       "    .dataframe tbody tr th:only-of-type {\n",
       "        vertical-align: middle;\n",
       "    }\n",
       "\n",
       "    .dataframe tbody tr th {\n",
       "        vertical-align: top;\n",
       "    }\n",
       "\n",
       "    .dataframe thead th {\n",
       "        text-align: right;\n",
       "    }\n",
       "</style>\n",
       "<table border=\"1\" class=\"dataframe\">\n",
       "  <thead>\n",
       "    <tr style=\"text-align: right;\">\n",
       "      <th></th>\n",
       "      <th>ph</th>\n",
       "      <th>Hardness</th>\n",
       "      <th>Solids</th>\n",
       "      <th>Chloramines</th>\n",
       "      <th>Sulfate</th>\n",
       "      <th>Conductivity</th>\n",
       "      <th>Organic_carbon</th>\n",
       "      <th>Trihalomethanes</th>\n",
       "      <th>Turbidity</th>\n",
       "      <th>Potability</th>\n",
       "    </tr>\n",
       "  </thead>\n",
       "  <tbody>\n",
       "    <tr>\n",
       "      <th>0</th>\n",
       "      <td>NaN</td>\n",
       "      <td>204.890456</td>\n",
       "      <td>20791.31898</td>\n",
       "      <td>7.300212</td>\n",
       "      <td>368.516441</td>\n",
       "      <td>564.308654</td>\n",
       "      <td>10.379783</td>\n",
       "      <td>86.990970</td>\n",
       "      <td>2.963135</td>\n",
       "      <td>0</td>\n",
       "    </tr>\n",
       "    <tr>\n",
       "      <th>1</th>\n",
       "      <td>3.716080</td>\n",
       "      <td>129.422921</td>\n",
       "      <td>18630.05786</td>\n",
       "      <td>6.635246</td>\n",
       "      <td>NaN</td>\n",
       "      <td>592.885359</td>\n",
       "      <td>15.180013</td>\n",
       "      <td>56.329076</td>\n",
       "      <td>4.500656</td>\n",
       "      <td>0</td>\n",
       "    </tr>\n",
       "    <tr>\n",
       "      <th>2</th>\n",
       "      <td>8.099124</td>\n",
       "      <td>224.236259</td>\n",
       "      <td>19909.54173</td>\n",
       "      <td>9.275884</td>\n",
       "      <td>NaN</td>\n",
       "      <td>418.606213</td>\n",
       "      <td>16.868637</td>\n",
       "      <td>66.420093</td>\n",
       "      <td>3.055934</td>\n",
       "      <td>0</td>\n",
       "    </tr>\n",
       "    <tr>\n",
       "      <th>3</th>\n",
       "      <td>8.316766</td>\n",
       "      <td>214.373394</td>\n",
       "      <td>22018.41744</td>\n",
       "      <td>8.059332</td>\n",
       "      <td>356.886136</td>\n",
       "      <td>363.266516</td>\n",
       "      <td>18.436525</td>\n",
       "      <td>100.341674</td>\n",
       "      <td>4.628771</td>\n",
       "      <td>0</td>\n",
       "    </tr>\n",
       "    <tr>\n",
       "      <th>4</th>\n",
       "      <td>9.092223</td>\n",
       "      <td>181.101509</td>\n",
       "      <td>17978.98634</td>\n",
       "      <td>6.546600</td>\n",
       "      <td>310.135738</td>\n",
       "      <td>398.410813</td>\n",
       "      <td>11.558279</td>\n",
       "      <td>31.997993</td>\n",
       "      <td>4.075075</td>\n",
       "      <td>0</td>\n",
       "    </tr>\n",
       "  </tbody>\n",
       "</table>\n",
       "</div>"
      ],
      "text/plain": [
       "         ph    Hardness       Solids  Chloramines     Sulfate  Conductivity  \\\n",
       "0       NaN  204.890456  20791.31898     7.300212  368.516441    564.308654   \n",
       "1  3.716080  129.422921  18630.05786     6.635246         NaN    592.885359   \n",
       "2  8.099124  224.236259  19909.54173     9.275884         NaN    418.606213   \n",
       "3  8.316766  214.373394  22018.41744     8.059332  356.886136    363.266516   \n",
       "4  9.092223  181.101509  17978.98634     6.546600  310.135738    398.410813   \n",
       "\n",
       "   Organic_carbon  Trihalomethanes  Turbidity  Potability  \n",
       "0       10.379783        86.990970   2.963135           0  \n",
       "1       15.180013        56.329076   4.500656           0  \n",
       "2       16.868637        66.420093   3.055934           0  \n",
       "3       18.436525       100.341674   4.628771           0  \n",
       "4       11.558279        31.997993   4.075075           0  "
      ]
     },
     "execution_count": 4,
     "metadata": {},
     "output_type": "execute_result"
    }
   ],
   "source": [
    "drinking_water_potability.head()"
   ]
  },
  {
   "cell_type": "code",
   "execution_count": 5,
   "metadata": {
    "colab": {
     "base_uri": "https://localhost:8080/"
    },
    "id": "sTS1bsuqsyBC",
    "outputId": "b4ffe287-bac6-46ff-b523-19a86b8a7fe6"
   },
   "outputs": [
    {
     "name": "stdout",
     "output_type": "stream",
     "text": [
      "<class 'pandas.core.frame.DataFrame'>\n",
      "RangeIndex: 3276 entries, 0 to 3275\n",
      "Data columns (total 10 columns):\n",
      " #   Column           Non-Null Count  Dtype  \n",
      "---  ------           --------------  -----  \n",
      " 0   ph               2785 non-null   float64\n",
      " 1   Hardness         3276 non-null   float64\n",
      " 2   Solids           3276 non-null   float64\n",
      " 3   Chloramines      3276 non-null   float64\n",
      " 4   Sulfate          2495 non-null   float64\n",
      " 5   Conductivity     3276 non-null   float64\n",
      " 6   Organic_carbon   3276 non-null   float64\n",
      " 7   Trihalomethanes  3114 non-null   float64\n",
      " 8   Turbidity        3276 non-null   float64\n",
      " 9   Potability       3276 non-null   int64  \n",
      "dtypes: float64(9), int64(1)\n",
      "memory usage: 256.1 KB\n"
     ]
    }
   ],
   "source": [
    "drinking_water_potability.info()"
   ]
  },
  {
   "cell_type": "code",
   "execution_count": 6,
   "metadata": {
    "colab": {
     "base_uri": "https://localhost:8080/",
     "height": 300
    },
    "id": "cIFjeJYmut3W",
    "outputId": "d99808d4-5862-49fc-a2dc-d5878024da16"
   },
   "outputs": [
    {
     "data": {
      "text/html": [
       "<div>\n",
       "<style scoped>\n",
       "    .dataframe tbody tr th:only-of-type {\n",
       "        vertical-align: middle;\n",
       "    }\n",
       "\n",
       "    .dataframe tbody tr th {\n",
       "        vertical-align: top;\n",
       "    }\n",
       "\n",
       "    .dataframe thead th {\n",
       "        text-align: right;\n",
       "    }\n",
       "</style>\n",
       "<table border=\"1\" class=\"dataframe\">\n",
       "  <thead>\n",
       "    <tr style=\"text-align: right;\">\n",
       "      <th></th>\n",
       "      <th>ph</th>\n",
       "      <th>Hardness</th>\n",
       "      <th>Solids</th>\n",
       "      <th>Chloramines</th>\n",
       "      <th>Sulfate</th>\n",
       "      <th>Conductivity</th>\n",
       "      <th>Organic_carbon</th>\n",
       "      <th>Trihalomethanes</th>\n",
       "      <th>Turbidity</th>\n",
       "      <th>Potability</th>\n",
       "    </tr>\n",
       "  </thead>\n",
       "  <tbody>\n",
       "    <tr>\n",
       "      <th>count</th>\n",
       "      <td>2785.000000</td>\n",
       "      <td>3276.000000</td>\n",
       "      <td>3276.000000</td>\n",
       "      <td>3276.000000</td>\n",
       "      <td>2495.000000</td>\n",
       "      <td>3276.000000</td>\n",
       "      <td>3276.000000</td>\n",
       "      <td>3114.000000</td>\n",
       "      <td>3276.000000</td>\n",
       "      <td>3276.000000</td>\n",
       "    </tr>\n",
       "    <tr>\n",
       "      <th>mean</th>\n",
       "      <td>7.080795</td>\n",
       "      <td>196.369496</td>\n",
       "      <td>22014.092526</td>\n",
       "      <td>7.122277</td>\n",
       "      <td>333.775777</td>\n",
       "      <td>426.205111</td>\n",
       "      <td>14.284970</td>\n",
       "      <td>66.396293</td>\n",
       "      <td>3.966786</td>\n",
       "      <td>0.390110</td>\n",
       "    </tr>\n",
       "    <tr>\n",
       "      <th>std</th>\n",
       "      <td>1.594320</td>\n",
       "      <td>32.879761</td>\n",
       "      <td>8768.570828</td>\n",
       "      <td>1.583085</td>\n",
       "      <td>41.416840</td>\n",
       "      <td>80.824064</td>\n",
       "      <td>3.308162</td>\n",
       "      <td>16.175008</td>\n",
       "      <td>0.780382</td>\n",
       "      <td>0.487849</td>\n",
       "    </tr>\n",
       "    <tr>\n",
       "      <th>min</th>\n",
       "      <td>0.000000</td>\n",
       "      <td>47.432000</td>\n",
       "      <td>320.942611</td>\n",
       "      <td>0.352000</td>\n",
       "      <td>129.000000</td>\n",
       "      <td>181.483754</td>\n",
       "      <td>2.200000</td>\n",
       "      <td>0.738000</td>\n",
       "      <td>1.450000</td>\n",
       "      <td>0.000000</td>\n",
       "    </tr>\n",
       "    <tr>\n",
       "      <th>25%</th>\n",
       "      <td>6.093092</td>\n",
       "      <td>176.850538</td>\n",
       "      <td>15666.690300</td>\n",
       "      <td>6.127421</td>\n",
       "      <td>307.699498</td>\n",
       "      <td>365.734414</td>\n",
       "      <td>12.065801</td>\n",
       "      <td>55.844536</td>\n",
       "      <td>3.439711</td>\n",
       "      <td>0.000000</td>\n",
       "    </tr>\n",
       "    <tr>\n",
       "      <th>50%</th>\n",
       "      <td>7.036752</td>\n",
       "      <td>196.967627</td>\n",
       "      <td>20927.833605</td>\n",
       "      <td>7.130299</td>\n",
       "      <td>333.073546</td>\n",
       "      <td>421.884968</td>\n",
       "      <td>14.218338</td>\n",
       "      <td>66.622485</td>\n",
       "      <td>3.955028</td>\n",
       "      <td>0.000000</td>\n",
       "    </tr>\n",
       "    <tr>\n",
       "      <th>75%</th>\n",
       "      <td>8.062066</td>\n",
       "      <td>216.667456</td>\n",
       "      <td>27332.762125</td>\n",
       "      <td>8.114887</td>\n",
       "      <td>359.950170</td>\n",
       "      <td>481.792305</td>\n",
       "      <td>16.557652</td>\n",
       "      <td>77.337473</td>\n",
       "      <td>4.500320</td>\n",
       "      <td>1.000000</td>\n",
       "    </tr>\n",
       "    <tr>\n",
       "      <th>max</th>\n",
       "      <td>14.000000</td>\n",
       "      <td>323.124000</td>\n",
       "      <td>61227.196010</td>\n",
       "      <td>13.127000</td>\n",
       "      <td>481.030642</td>\n",
       "      <td>753.342620</td>\n",
       "      <td>28.300000</td>\n",
       "      <td>124.000000</td>\n",
       "      <td>6.739000</td>\n",
       "      <td>1.000000</td>\n",
       "    </tr>\n",
       "  </tbody>\n",
       "</table>\n",
       "</div>"
      ],
      "text/plain": [
       "                ph     Hardness        Solids  Chloramines      Sulfate  \\\n",
       "count  2785.000000  3276.000000   3276.000000  3276.000000  2495.000000   \n",
       "mean      7.080795   196.369496  22014.092526     7.122277   333.775777   \n",
       "std       1.594320    32.879761   8768.570828     1.583085    41.416840   \n",
       "min       0.000000    47.432000    320.942611     0.352000   129.000000   \n",
       "25%       6.093092   176.850538  15666.690300     6.127421   307.699498   \n",
       "50%       7.036752   196.967627  20927.833605     7.130299   333.073546   \n",
       "75%       8.062066   216.667456  27332.762125     8.114887   359.950170   \n",
       "max      14.000000   323.124000  61227.196010    13.127000   481.030642   \n",
       "\n",
       "       Conductivity  Organic_carbon  Trihalomethanes    Turbidity   Potability  \n",
       "count   3276.000000     3276.000000      3114.000000  3276.000000  3276.000000  \n",
       "mean     426.205111       14.284970        66.396293     3.966786     0.390110  \n",
       "std       80.824064        3.308162        16.175008     0.780382     0.487849  \n",
       "min      181.483754        2.200000         0.738000     1.450000     0.000000  \n",
       "25%      365.734414       12.065801        55.844536     3.439711     0.000000  \n",
       "50%      421.884968       14.218338        66.622485     3.955028     0.000000  \n",
       "75%      481.792305       16.557652        77.337473     4.500320     1.000000  \n",
       "max      753.342620       28.300000       124.000000     6.739000     1.000000  "
      ]
     },
     "execution_count": 6,
     "metadata": {},
     "output_type": "execute_result"
    }
   ],
   "source": [
    "drinking_water_potability.describe()"
   ]
  },
  {
   "cell_type": "code",
   "execution_count": 7,
   "metadata": {
    "colab": {
     "base_uri": "https://localhost:8080/",
     "height": 1000
    },
    "id": "A6gmaIiouxk-",
    "outputId": "459b62d6-2832-49c5-9783-6a42b1b1aa74"
   },
   "outputs": [
    {
     "data": {
      "image/png": "[encoded data removed]",
      "text/plain": [
       "<Figure size 1440x1440 with 12 Axes>"
      ]
     },
     "metadata": {
      "needs_background": "light"
     },
     "output_type": "display_data"
    }
   ],
   "source": [
    "drinking_water_potability.hist(bins = 50, figsize = (20,20))\n",
    "plt.show()"
   ]
  },
  {
   "cell_type": "markdown",
   "metadata": {
    "id": "ugzXOkC8tUYv"
   },
   "source": [
    "Data Cleaning"
   ]
  },
  {
   "cell_type": "markdown",
   "metadata": {
    "id": "fN7ioJtotYRi"
   },
   "source": []
  },
  {
   "cell_type": "code",
   "execution_count": 8,
   "metadata": {
    "colab": {
     "base_uri": "https://localhost:8080/"
    },
    "id": "VSJ2GFyktV4M",
    "outputId": "cf199371-ce8e-47ce-90ff-d2d28f983fe2"
   },
   "outputs": [
    {
     "data": {
      "text/plain": [
       "0    1998\n",
       "1    1278\n",
       "Name: Potability, dtype: int64"
      ]
     },
     "execution_count": 8,
     "metadata": {},
     "output_type": "execute_result"
    }
   ],
   "source": [
    "drinking_water_potability[\"Potability\"].value_counts()"
   ]
  },
  {
   "cell_type": "code",
   "execution_count": 9,
   "metadata": {
    "colab": {
     "base_uri": "https://localhost:8080/"
    },
    "id": "7pNUEEmnxC_w",
    "outputId": "10e1f538-ae16-44fa-a542-dcc8943aecc4"
   },
   "outputs": [
    {
     "data": {
      "text/plain": [
       "ph                 14.99\n",
       "Hardness            0.00\n",
       "Solids              0.00\n",
       "Chloramines         0.00\n",
       "Sulfate            23.84\n",
       "Conductivity        0.00\n",
       "Organic_carbon      0.00\n",
       "Trihalomethanes     4.95\n",
       "Turbidity           0.00\n",
       "Potability          0.00\n",
       "dtype: float64"
      ]
     },
     "execution_count": 9,
     "metadata": {},
     "output_type": "execute_result"
    }
   ],
   "source": [
    "#Checking missing values\n",
    "missing_df = drinking_water_potability.isna()\n",
    "missing_df = np.round(100 * missing_df.sum()/len(drinking_water_potability), 2)\n",
    "missing_df"
   ]
  },
  {
   "cell_type": "code",
   "execution_count": 10,
   "metadata": {
    "colab": {
     "base_uri": "https://localhost:8080/",
     "height": 300
    },
    "id": "-JgAoWKZypLt",
    "outputId": "1616aed7-7270-4a39-b746-2d506b712a83"
   },
   "outputs": [
    {
     "data": {
      "text/html": [
       "<div>\n",
       "<style scoped>\n",
       "    .dataframe tbody tr th:only-of-type {\n",
       "        vertical-align: middle;\n",
       "    }\n",
       "\n",
       "    .dataframe tbody tr th {\n",
       "        vertical-align: top;\n",
       "    }\n",
       "\n",
       "    .dataframe thead th {\n",
       "        text-align: right;\n",
       "    }\n",
       "</style>\n",
       "<table border=\"1\" class=\"dataframe\">\n",
       "  <thead>\n",
       "    <tr style=\"text-align: right;\">\n",
       "      <th></th>\n",
       "      <th>ph</th>\n",
       "      <th>Hardness</th>\n",
       "      <th>Solids</th>\n",
       "      <th>Chloramines</th>\n",
       "      <th>Sulfate</th>\n",
       "      <th>Conductivity</th>\n",
       "      <th>Organic_carbon</th>\n",
       "      <th>Trihalomethanes</th>\n",
       "      <th>Turbidity</th>\n",
       "      <th>Potability</th>\n",
       "    </tr>\n",
       "  </thead>\n",
       "  <tbody>\n",
       "    <tr>\n",
       "      <th>count</th>\n",
       "      <td>2.785000e+03</td>\n",
       "      <td>3.276000e+03</td>\n",
       "      <td>3.276000e+03</td>\n",
       "      <td>3.276000e+03</td>\n",
       "      <td>2.495000e+03</td>\n",
       "      <td>3.276000e+03</td>\n",
       "      <td>3.276000e+03</td>\n",
       "      <td>3.114000e+03</td>\n",
       "      <td>3.276000e+03</td>\n",
       "      <td>3276.000000</td>\n",
       "    </tr>\n",
       "    <tr>\n",
       "      <th>mean</th>\n",
       "      <td>1.060709e-14</td>\n",
       "      <td>5.015194e-16</td>\n",
       "      <td>2.483870e-15</td>\n",
       "      <td>-2.055497e-15</td>\n",
       "      <td>-1.773246e-14</td>\n",
       "      <td>-6.164788e-15</td>\n",
       "      <td>1.521134e-15</td>\n",
       "      <td>1.380613e-15</td>\n",
       "      <td>-4.304927e-15</td>\n",
       "      <td>0.390110</td>\n",
       "    </tr>\n",
       "    <tr>\n",
       "      <th>std</th>\n",
       "      <td>1.000000e+00</td>\n",
       "      <td>1.000000e+00</td>\n",
       "      <td>1.000000e+00</td>\n",
       "      <td>1.000000e+00</td>\n",
       "      <td>1.000000e+00</td>\n",
       "      <td>1.000000e+00</td>\n",
       "      <td>1.000000e+00</td>\n",
       "      <td>1.000000e+00</td>\n",
       "      <td>1.000000e+00</td>\n",
       "      <td>0.487849</td>\n",
       "    </tr>\n",
       "    <tr>\n",
       "      <th>min</th>\n",
       "      <td>-4.441264e+00</td>\n",
       "      <td>-4.529762e+00</td>\n",
       "      <td>-2.473966e+00</td>\n",
       "      <td>-4.276635e+00</td>\n",
       "      <td>-4.944264e+00</td>\n",
       "      <td>-3.027828e+00</td>\n",
       "      <td>-3.653077e+00</td>\n",
       "      <td>-4.059243e+00</td>\n",
       "      <td>-3.225068e+00</td>\n",
       "      <td>0.000000</td>\n",
       "    </tr>\n",
       "    <tr>\n",
       "      <th>25%</th>\n",
       "      <td>-6.195136e-01</td>\n",
       "      <td>-5.936466e-01</td>\n",
       "      <td>-7.238810e-01</td>\n",
       "      <td>-6.284287e-01</td>\n",
       "      <td>-6.296057e-01</td>\n",
       "      <td>-7.481769e-01</td>\n",
       "      <td>-6.708163e-01</td>\n",
       "      <td>-6.523494e-01</td>\n",
       "      <td>-6.754064e-01</td>\n",
       "      <td>0.000000</td>\n",
       "    </tr>\n",
       "    <tr>\n",
       "      <th>50%</th>\n",
       "      <td>-2.762458e-02</td>\n",
       "      <td>1.819146e-02</td>\n",
       "      <td>-1.238810e-01</td>\n",
       "      <td>5.067436e-03</td>\n",
       "      <td>-1.695520e-02</td>\n",
       "      <td>-5.345119e-02</td>\n",
       "      <td>-2.014179e-02</td>\n",
       "      <td>1.398405e-02</td>\n",
       "      <td>-1.506775e-02</td>\n",
       "      <td>0.000000</td>\n",
       "    </tr>\n",
       "    <tr>\n",
       "      <th>75%</th>\n",
       "      <td>6.154799e-01</td>\n",
       "      <td>6.173390e-01</td>\n",
       "      <td>6.065606e-01</td>\n",
       "      <td>6.270101e-01</td>\n",
       "      <td>6.319747e-01</td>\n",
       "      <td>6.877555e-01</td>\n",
       "      <td>6.869921e-01</td>\n",
       "      <td>6.764250e-01</td>\n",
       "      <td>6.836823e-01</td>\n",
       "      <td>1.000000</td>\n",
       "    </tr>\n",
       "    <tr>\n",
       "      <th>max</th>\n",
       "      <td>4.339911e+00</td>\n",
       "      <td>3.855092e+00</td>\n",
       "      <td>4.472006e+00</td>\n",
       "      <td>3.793052e+00</td>\n",
       "      <td>3.555435e+00</td>\n",
       "      <td>4.047526e+00</td>\n",
       "      <td>4.236500e+00</td>\n",
       "      <td>3.561278e+00</td>\n",
       "      <td>3.552379e+00</td>\n",
       "      <td>1.000000</td>\n",
       "    </tr>\n",
       "  </tbody>\n",
       "</table>\n",
       "</div>"
      ],
      "text/plain": [
       "                 ph      Hardness        Solids   Chloramines       Sulfate  \\\n",
       "count  2.785000e+03  3.276000e+03  3.276000e+03  3.276000e+03  2.495000e+03   \n",
       "mean   1.060709e-14  5.015194e-16  2.483870e-15 -2.055497e-15 -1.773246e-14   \n",
       "std    1.000000e+00  1.000000e+00  1.000000e+00  1.000000e+00  1.000000e+00   \n",
       "min   -4.441264e+00 -4.529762e+00 -2.473966e+00 -4.276635e+00 -4.944264e+00   \n",
       "25%   -6.195136e-01 -5.936466e-01 -7.238810e-01 -6.284287e-01 -6.296057e-01   \n",
       "50%   -2.762458e-02  1.819146e-02 -1.238810e-01  5.067436e-03 -1.695520e-02   \n",
       "75%    6.154799e-01  6.173390e-01  6.065606e-01  6.270101e-01  6.319747e-01   \n",
       "max    4.339911e+00  3.855092e+00  4.472006e+00  3.793052e+00  3.555435e+00   \n",
       "\n",
       "       Conductivity  Organic_carbon  Trihalomethanes     Turbidity  \\\n",
       "count  3.276000e+03    3.276000e+03     3.114000e+03  3.276000e+03   \n",
       "mean  -6.164788e-15    1.521134e-15     1.380613e-15 -4.304927e-15   \n",
       "std    1.000000e+00    1.000000e+00     1.000000e+00  1.000000e+00   \n",
       "min   -3.027828e+00   -3.653077e+00    -4.059243e+00 -3.225068e+00   \n",
       "25%   -7.481769e-01   -6.708163e-01    -6.523494e-01 -6.754064e-01   \n",
       "50%   -5.345119e-02   -2.014179e-02     1.398405e-02 -1.506775e-02   \n",
       "75%    6.877555e-01    6.869921e-01     6.764250e-01  6.836823e-01   \n",
       "max    4.047526e+00    4.236500e+00     3.561278e+00  3.552379e+00   \n",
       "\n",
       "        Potability  \n",
       "count  3276.000000  \n",
       "mean      0.390110  \n",
       "std       0.487849  \n",
       "min       0.000000  \n",
       "25%       0.000000  \n",
       "50%       0.000000  \n",
       "75%       1.000000  \n",
       "max       1.000000  "
      ]
     },
     "execution_count": 10,
     "metadata": {},
     "output_type": "execute_result"
    }
   ],
   "source": [
    "#Santard Scaling\n",
    "\n",
    "\n",
    "df_scaled = drinking_water_potability.drop(columns = ['Potability'], axis = 1).copy()\n",
    "for col in df_scaled.columns :\n",
    "  mean = df_scaled[col].mean()\n",
    "  std = df_scaled[col].std()\n",
    "  df_scaled[col] = df_scaled[col].apply(lambda x : (x-mean)/std)\n",
    "df_scaled['Potability'] = drinking_water_potability['Potability']\n",
    "\n",
    "df_scaled.describe()\n"
   ]
  },
  {
   "cell_type": "markdown",
   "metadata": {
    "id": "Pbxol4_V2Ufp"
   },
   "source": [
    "# Feature selection"
   ]
  },
  {
   "cell_type": "code",
   "execution_count": 11,
   "metadata": {
    "colab": {
     "base_uri": "https://localhost:8080/",
     "height": 206
    },
    "id": "TWXa5Zk52eQt",
    "outputId": "d106e308-d8b3-4f6f-d36b-0c98bbdbb43f"
   },
   "outputs": [
    {
     "data": {
      "text/html": [
       "<div>\n",
       "<style scoped>\n",
       "    .dataframe tbody tr th:only-of-type {\n",
       "        vertical-align: middle;\n",
       "    }\n",
       "\n",
       "    .dataframe tbody tr th {\n",
       "        vertical-align: top;\n",
       "    }\n",
       "\n",
       "    .dataframe thead th {\n",
       "        text-align: right;\n",
       "    }\n",
       "</style>\n",
       "<table border=\"1\" class=\"dataframe\">\n",
       "  <thead>\n",
       "    <tr style=\"text-align: right;\">\n",
       "      <th></th>\n",
       "      <th>Hardness</th>\n",
       "      <th>Solids</th>\n",
       "      <th>Chloramines</th>\n",
       "      <th>Conductivity</th>\n",
       "      <th>Organic_carbon</th>\n",
       "      <th>Turbidity</th>\n",
       "      <th>Potability</th>\n",
       "    </tr>\n",
       "  </thead>\n",
       "  <tbody>\n",
       "    <tr>\n",
       "      <th>0</th>\n",
       "      <td>0.259155</td>\n",
       "      <td>-0.139450</td>\n",
       "      <td>0.112398</td>\n",
       "      <td>1.708693</td>\n",
       "      <td>-1.180470</td>\n",
       "      <td>-1.286101</td>\n",
       "      <td>0</td>\n",
       "    </tr>\n",
       "    <tr>\n",
       "      <th>1</th>\n",
       "      <td>-2.036103</td>\n",
       "      <td>-0.385928</td>\n",
       "      <td>-0.307647</td>\n",
       "      <td>2.062260</td>\n",
       "      <td>0.270556</td>\n",
       "      <td>0.684113</td>\n",
       "      <td>0</td>\n",
       "    </tr>\n",
       "    <tr>\n",
       "      <th>2</th>\n",
       "      <td>0.847535</td>\n",
       "      <td>-0.240011</td>\n",
       "      <td>1.360386</td>\n",
       "      <td>-0.094018</td>\n",
       "      <td>0.780998</td>\n",
       "      <td>-1.167187</td>\n",
       "      <td>0</td>\n",
       "    </tr>\n",
       "    <tr>\n",
       "      <th>3</th>\n",
       "      <td>0.547568</td>\n",
       "      <td>0.000493</td>\n",
       "      <td>0.591917</td>\n",
       "      <td>-0.778711</td>\n",
       "      <td>1.254943</td>\n",
       "      <td>0.848282</td>\n",
       "      <td>0</td>\n",
       "    </tr>\n",
       "    <tr>\n",
       "      <th>4</th>\n",
       "      <td>-0.464358</td>\n",
       "      <td>-0.460178</td>\n",
       "      <td>-0.363642</td>\n",
       "      <td>-0.343886</td>\n",
       "      <td>-0.824231</td>\n",
       "      <td>0.138764</td>\n",
       "      <td>0</td>\n",
       "    </tr>\n",
       "  </tbody>\n",
       "</table>\n",
       "</div>"
      ],
      "text/plain": [
       "   Hardness    Solids  Chloramines  Conductivity  Organic_carbon  Turbidity  \\\n",
       "0  0.259155 -0.139450     0.112398      1.708693       -1.180470  -1.286101   \n",
       "1 -2.036103 -0.385928    -0.307647      2.062260        0.270556   0.684113   \n",
       "2  0.847535 -0.240011     1.360386     -0.094018        0.780998  -1.167187   \n",
       "3  0.547568  0.000493     0.591917     -0.778711        1.254943   0.848282   \n",
       "4 -0.464358 -0.460178    -0.363642     -0.343886       -0.824231   0.138764   \n",
       "\n",
       "   Potability  \n",
       "0           0  \n",
       "1           0  \n",
       "2           0  \n",
       "3           0  \n",
       "4           0  "
      ]
     },
     "execution_count": 11,
     "metadata": {},
     "output_type": "execute_result"
    }
   ],
   "source": [
    "df_test1 = df_scaled.drop(columns = ['ph', 'Sulfate', 'Trihalomethanes'], axis = 1)\n",
    "df_test1.head()"
   ]
  },
  {
   "cell_type": "code",
   "execution_count": 12,
   "metadata": {},
   "outputs": [],
   "source": [
    "from sklearn.metrics import accuracy_score, precision_score, confusion_matrix, plot_confusion_matrix"
   ]
  },
  {
   "cell_type": "markdown",
   "metadata": {
    "id": "yBYdzbUyvEbC"
   },
   "source": [
    "## TEST 1 : Logistic Regression"
   ]
  },
  {
   "cell_type": "code",
   "execution_count": 13,
   "metadata": {
    "id": "DpQcIUThvA1F"
   },
   "outputs": [],
   "source": [
    "from sklearn.model_selection import train_test_split\n",
    "from sklearn.linear_model import LogisticRegression\n",
    "\n",
    "X = df_test1.drop(columns = ['Potability'], axis = 1)\n",
    "y = df_test1['Potability'].apply(lambda x:str(x))\n",
    "\n",
    "X_train, X_test, y_train, y_test = train_test_split(X, y, test_size=0.2, random_state=1)\n",
    "\n",
    "clf = LogisticRegression().fit(X_train, y_train)\n",
    "score = clf.score(X_test, y_test)\n",
    "\n",
    "y_pred_lr = clf.predict(X_test)"
   ]
  },
  {
   "cell_type": "code",
   "execution_count": 14,
   "metadata": {
    "colab": {
     "base_uri": "https://localhost:8080/"
    },
    "id": "uCmAsK5a5Avr",
    "outputId": "9b8b50cf-2114-4a10-8b2d-9d2fe385622e"
   },
   "outputs": [
    {
     "name": "stdout",
     "output_type": "stream",
     "text": [
      "The accuracy score achieved using Logistic Regression is: 56.86 %\n",
      "Macro precision : 50.00 %\n",
      "The precision score achieved using Logistic Regression is: nan %\n",
      "The recall score achieved using Logistic Regression is: 0.0 %\n"
     ]
    },
    {
     "name": "stderr",
     "output_type": "stream",
     "text": [
      "<ipython-input-14-841e4c805068>:6: RuntimeWarning: invalid value encountered in longlong_scalars\n",
      "  precision_lr = 100 * tp / (tp + fp)\n"
     ]
    },
    {
     "data": {
      "image/png": "[encoded data removed]",
      "text/plain": [
       "<Figure size 432x288 with 2 Axes>"
      ]
     },
     "metadata": {
      "needs_background": "light"
     },
     "output_type": "display_data"
    }
   ],
   "source": [
    "score_lr = round(accuracy_score(y_pred_lr,y_test)*100,2)\n",
    "print(\"The accuracy score achieved using Logistic Regression is: \"+str(score_lr)+\" %\")\n",
    "\n",
    "print(\"Macro precision : {:.2f} %\".format(100 * precision_score(y_pred_lr,y_test, average='macro')))\n",
    "tn, fp, fn, tp = confusion_matrix(y_test,y_pred_lr).ravel()\n",
    "precision_lr = 100 * tp / (tp + fp)\n",
    "recall_lr = 100 * tp / (tp + fn)\n",
    "print(\"The precision score achieved using Logistic Regression is: \"+str(round(precision_lr,2))+\" %\")\n",
    "print(\"The recall score achieved using Logistic Regression is: \"+str(round(recall_lr,2))+\" %\")\n",
    "\n",
    "plot_confusion_matrix(clf, X_test, y_test)\n",
    "plt.show()"
   ]
  },
  {
   "cell_type": "markdown",
   "metadata": {
    "id": "KLOCJk7h5IU3"
   },
   "source": [
    "## Test 2 : Decision Tree"
   ]
  },
  {
   "cell_type": "code",
   "execution_count": 15,
   "metadata": {
    "id": "FP_Jqq4R5PEK"
   },
   "outputs": [],
   "source": [
    "from sklearn.model_selection import train_test_split\n",
    "from sklearn.tree import DecisionTreeClassifier\n",
    "\n",
    "X = df_test1.drop(columns = ['Potability'], axis = 1)\n",
    "y = df_test1['Potability'].apply(lambda x:str(x))\n",
    "\n",
    "X_train, X_test, y_train, y_test = train_test_split(X, y, test_size=0.2, random_state=1)\n",
    "\n",
    "clf = DecisionTreeClassifier().fit(X_train, y_train)\n",
    "score = clf.score(X_test, y_test)\n",
    "\n",
    "y_pred_DT = clf.predict(X_test)"
   ]
  },
  {
   "cell_type": "code",
   "execution_count": 16,
   "metadata": {
    "colab": {
     "base_uri": "https://localhost:8080/"
    },
    "id": "VI0s76lV5arE",
    "outputId": "9ba505c0-314d-423b-8ae7-7444c41cfe25"
   },
   "outputs": [
    {
     "name": "stdout",
     "output_type": "stream",
     "text": [
      "The accuracy score achieved using Decision Tree is: 53.05 %\n",
      "Macro precision : 51.68 %\n",
      "The precision score achieved using Decision Tree is: 45.21 %\n",
      "The recall score achieved using Decision Tree is: 41.7 %\n"
     ]
    },
    {
     "data": {
      "image/png": "[encoded data removed]",
      "text/plain": [
       "<Figure size 432x288 with 2 Axes>"
      ]
     },
     "metadata": {
      "needs_background": "light"
     },
     "output_type": "display_data"
    }
   ],
   "source": [
    "score_DT = round(accuracy_score(y_pred_DT,y_test)*100,2)\n",
    "print(\"The accuracy score achieved using Decision Tree is: \"+str(score_DT)+\" %\")\n",
    "\n",
    "print(\"Macro precision : {:.2f} %\".format(100 * precision_score(y_pred_DT,y_test, average='macro')))\n",
    "tn, fp, fn, tp = confusion_matrix(y_test, y_pred_DT).ravel()\n",
    "precision_DT = 100 * tp / (tp + fp)\n",
    "recall_DT = 100 * tp / (tp + fn)\n",
    "print(\"The precision score achieved using Decision Tree is: \"+str(round(precision_DT,2))+\" %\")\n",
    "print(\"The recall score achieved using Decision Tree is: \"+str(round(recall_DT,2))+\" %\")\n",
    "\n",
    "plot_confusion_matrix(clf, X_test, y_test)\n",
    "plt.show()"
   ]
  },
  {
   "cell_type": "markdown",
   "metadata": {
    "id": "UfngyXHI6T_j"
   },
   "source": [
    "# Data Imputation"
   ]
  },
  {
   "cell_type": "code",
   "execution_count": 17,
   "metadata": {
    "colab": {
     "base_uri": "https://localhost:8080/"
    },
    "id": "S2iA0vpS6WdF",
    "outputId": "89bbb795-fdf4-40b6-8e7e-3d84e849e3bd"
   },
   "outputs": [
    {
     "name": "stdout",
     "output_type": "stream",
     "text": [
      "<class 'pandas.core.frame.DataFrame'>\n",
      "RangeIndex: 3276 entries, 0 to 3275\n",
      "Data columns (total 10 columns):\n",
      " #   Column           Non-Null Count  Dtype  \n",
      "---  ------           --------------  -----  \n",
      " 0   ph               3276 non-null   float64\n",
      " 1   Hardness         3276 non-null   float64\n",
      " 2   Solids           3276 non-null   float64\n",
      " 3   Chloramines      3276 non-null   float64\n",
      " 4   Sulfate          3276 non-null   float64\n",
      " 5   Conductivity     3276 non-null   float64\n",
      " 6   Organic_carbon   3276 non-null   float64\n",
      " 7   Trihalomethanes  3276 non-null   float64\n",
      " 8   Turbidity        3276 non-null   float64\n",
      " 9   Potability       3276 non-null   int64  \n",
      "dtypes: float64(9), int64(1)\n",
      "memory usage: 256.1 KB\n"
     ]
    }
   ],
   "source": [
    "#Data Imputation\n",
    "\n",
    "df_mean_impute = df_scaled.copy()\n",
    "\n",
    "def impute(x, mean):\n",
    "  if str(x) == str(np.nan):\n",
    "    return mean\n",
    "  else :\n",
    "    return x\n",
    "\n",
    "for col in df_mean_impute.columns :\n",
    "  mean = df_mean_impute[col].mean()\n",
    "  df_mean_impute[col] = df_mean_impute[col].apply(lambda x : impute(x, mean))\n",
    "\n",
    "df_mean_impute.info()"
   ]
  },
  {
   "cell_type": "markdown",
   "metadata": {
    "id": "46h3isMj8miJ"
   },
   "source": [
    "## Test 3 Logistic Regression and Descion Tree with mean imputation"
   ]
  },
  {
   "cell_type": "code",
   "execution_count": 18,
   "metadata": {
    "id": "bgRwaqOF8tIU"
   },
   "outputs": [],
   "source": [
    "from sklearn.model_selection import train_test_split\n",
    "from sklearn.linear_model import LogisticRegression\n",
    "\n",
    "X = df_mean_impute.drop(columns = ['Potability'], axis = 1)\n",
    "y = df_mean_impute['Potability'].apply(lambda x:str(x))\n",
    "\n",
    "X_train, X_test, y_train, y_test = train_test_split(X, y, test_size=0.2, random_state=1)\n",
    "\n",
    "clf = LogisticRegression().fit(X_train, y_train)\n",
    "score = clf.score(X_test, y_test)\n",
    "\n",
    "y_pred_lr = clf.predict(X_test)"
   ]
  },
  {
   "cell_type": "code",
   "execution_count": 19,
   "metadata": {
    "colab": {
     "base_uri": "https://localhost:8080/"
    },
    "id": "89hHBCRC9kI0",
    "outputId": "79ab1c53-0fbe-43a3-90cb-0c24725abc1b"
   },
   "outputs": [
    {
     "name": "stdout",
     "output_type": "stream",
     "text": [
      "The accuracy score achieved using Logistic Regression is: 57.01 %\n",
      "Macro precision : 50.18 %\n",
      "The precision score achieved using Logistic Regression is: 100.0 %\n",
      "The recall score achieved using Logistic Regression is: 0.35 %\n"
     ]
    },
    {
     "data": {
      "image/png": "[encoded data removed]",
      "text/plain": [
       "<Figure size 432x288 with 2 Axes>"
      ]
     },
     "metadata": {
      "needs_background": "light"
     },
     "output_type": "display_data"
    }
   ],
   "source": [
    "score_lr = round(accuracy_score(y_pred_lr,y_test)*100,2)\n",
    "print(\"The accuracy score achieved using Logistic Regression is: \"+str(score_lr)+\" %\")\n",
    "\n",
    "print(\"Macro precision : {:.2f} %\".format(100 * precision_score(y_pred_lr,y_test, average='macro')))\n",
    "tn, fp, fn, tp = confusion_matrix(y_test,y_pred_lr).ravel()\n",
    "precision_lr = 100 * tp / (tp + fp)\n",
    "recall_lr = 100 * tp / (tp + fn)\n",
    "print(\"The precision score achieved using Logistic Regression is: \"+str(round(precision_lr,2))+\" %\")\n",
    "print(\"The recall score achieved using Logistic Regression is: \"+str(round(recall_lr,2))+\" %\")\n",
    "\n",
    "plot_confusion_matrix(clf, X_test, y_test)\n",
    "plt.show()"
   ]
  },
  {
   "cell_type": "code",
   "execution_count": 20,
   "metadata": {
    "id": "XWXl9gMV9SRC"
   },
   "outputs": [],
   "source": [
    "from sklearn.model_selection import train_test_split\n",
    "from sklearn.tree import DecisionTreeClassifier\n",
    "\n",
    "X = df_mean_impute.drop(columns = ['Potability'], axis = 1)\n",
    "y = df_mean_impute['Potability'].apply(lambda x:str(x))\n",
    "\n",
    "X_train, X_test, y_train, y_test = train_test_split(X, y, test_size=0.2, random_state=1)\n",
    "\n",
    "clf = DecisionTreeClassifier().fit(X_train, y_train)\n",
    "score = clf.score(X_test, y_test)\n",
    "\n",
    "y_pred_DT = clf.predict(X_test)"
   ]
  },
  {
   "cell_type": "code",
   "execution_count": 21,
   "metadata": {
    "colab": {
     "base_uri": "https://localhost:8080/"
    },
    "id": "__36g5Cq9Dqm",
    "outputId": "55ecd337-18eb-4e7c-b4a0-ae65da227b92"
   },
   "outputs": [
    {
     "name": "stdout",
     "output_type": "stream",
     "text": [
      "The accuracy score achieved using Decision Tree is: 59.3 %\n",
      "Macro precision : 57.99 %\n",
      "The precision score achieved using Decision Tree is: 53.1 %\n",
      "The recall score achieved using Decision Tree is: 48.41 %\n"
     ]
    },
    {
     "data": {
      "image/png": "[encoded data removed]",
      "text/plain": [
       "<Figure size 432x288 with 2 Axes>"
      ]
     },
     "metadata": {
      "needs_background": "light"
     },
     "output_type": "display_data"
    }
   ],
   "source": [
    "score_DT = round(accuracy_score(y_pred_DT,y_test)*100,2)\n",
    "print(\"The accuracy score achieved using Decision Tree is: \"+str(score_DT)+\" %\")\n",
    "\n",
    "print(\"Macro precision : {:.2f} %\".format(100 * precision_score(y_pred_DT,y_test, average='macro')))\n",
    "tn, fp, fn, tp = confusion_matrix(y_test, y_pred_DT).ravel()\n",
    "precision_DT = 100 * tp / (tp + fp)\n",
    "recall_DT = 100 * tp / (tp + fn)\n",
    "print(\"The precision score achieved using Decision Tree is: \"+str(round(precision_DT,2))+\" %\")\n",
    "print(\"The recall score achieved using Decision Tree is: \"+str(round(recall_DT,2))+\" %\")\n",
    "\n",
    "plot_confusion_matrix(clf, X_test, y_test)\n",
    "plt.show()"
   ]
  },
  {
   "cell_type": "markdown",
   "metadata": {
    "id": "iUCHaq_v-466"
   },
   "source": [
    "## Test 4 : Random Forest + Stratify"
   ]
  },
  {
   "cell_type": "code",
   "execution_count": 22,
   "metadata": {
    "id": "P0iqvUIY--eL"
   },
   "outputs": [],
   "source": [
    "from sklearn.ensemble import RandomForestClassifier\n",
    "\n",
    "X = df_mean_impute.drop(columns = ['Potability'], axis = 1)\n",
    "y = df_mean_impute['Potability'].apply(lambda x:str(x))\n",
    "\n",
    "X_train, X_test, y_train, y_test = train_test_split(X, y, test_size=0.2, random_state=1, stratify = y)\n",
    "\n",
    "clf = RandomForestClassifier().fit(X_train, y_train)\n",
    "score = clf.score(X_test, y_test)\n",
    "\n",
    "y_pred_RF = clf.predict(X_test)"
   ]
  },
  {
   "cell_type": "code",
   "execution_count": 23,
   "metadata": {
    "colab": {
     "base_uri": "https://localhost:8080/"
    },
    "id": "x1K_KjnX_bnG",
    "outputId": "115137f6-4b20-459a-cc17-bb94ec4a2629"
   },
   "outputs": [
    {
     "name": "stdout",
     "output_type": "stream",
     "text": [
      "The accuracy score achieved using Random Forest is: 66.92 %\n",
      "Macro precision : 61.34 %\n",
      "The precision score achieved using Random Forest is: 63.45 %\n",
      "The recall score achieved using Random Forest is: 35.94 %\n"
     ]
    },
    {
     "data": {
      "image/png": "[encoded data removed]",
      "text/plain": [
       "<Figure size 432x288 with 2 Axes>"
      ]
     },
     "metadata": {
      "needs_background": "light"
     },
     "output_type": "display_data"
    }
   ],
   "source": [
    "score_RF = round(accuracy_score(y_pred_RF,y_test)*100,2)\n",
    "print(\"The accuracy score achieved using Random Forest is: \"+str(score_RF)+\" %\")\n",
    "\n",
    "print(\"Macro precision : {:.2f} %\".format(100 * precision_score(y_pred_RF,y_test, average='macro')))\n",
    "tn, fp, fn, tp = confusion_matrix(y_test, y_pred_RF).ravel()\n",
    "precision_RF = 100 * tp / (tp + fp)\n",
    "recall_RF = 100 * tp / (tp + fn)\n",
    "print(\"The precision score achieved using Random Forest is: \"+str(round(precision_RF,2))+\" %\")\n",
    "print(\"The recall score achieved using Random Forest is: \"+str(round(recall_RF,2))+\" %\")\n",
    "\n",
    "plot_confusion_matrix(clf, X_test, y_test)\n",
    "plt.show()"
   ]
  },
  {
   "cell_type": "markdown",
   "metadata": {
    "id": "mIKMGe8x_07b"
   },
   "source": [
    "## Test 5 : SVM"
   ]
  },
  {
   "cell_type": "code",
   "execution_count": 24,
   "metadata": {
    "id": "DSlUKrO7_yvJ"
   },
   "outputs": [],
   "source": [
    "from sklearn.svm import SVC\n",
    "\n",
    "X = df_mean_impute.drop(columns = ['Potability'], axis = 1)\n",
    "y = df_mean_impute['Potability'].apply(lambda x:str(x))\n",
    "\n",
    "X_train, X_test, y_train, y_test = train_test_split(X, y, test_size=0.2, random_state=1, stratify = y)\n",
    "\n",
    "clf = SVC().fit(X_train, y_train)\n",
    "score = clf.score(X_test, y_test)\n",
    "\n",
    "y_pred_SVM = clf.predict(X_test)"
   ]
  },
  {
   "cell_type": "code",
   "execution_count": 25,
   "metadata": {
    "colab": {
     "base_uri": "https://localhost:8080/"
    },
    "id": "8KdvekjdARuU",
    "outputId": "c98c25bb-8417-4899-cf5a-585cbae4129b"
   },
   "outputs": [
    {
     "name": "stdout",
     "output_type": "stream",
     "text": [
      "The accuracy score achieved using SVM is: 68.75 %\n",
      "Macro precision : 61.37 %\n",
      "380 20 185 71\n",
      "The precision score achieved using SVM is: 78.02 %\n",
      "The recall score achieved using SVM is: 27.73 %\n"
     ]
    },
    {
     "data": {
      "image/png": "[encoded data removed]",
      "text/plain": [
       "<Figure size 432x288 with 2 Axes>"
      ]
     },
     "metadata": {
      "needs_background": "light"
     },
     "output_type": "display_data"
    }
   ],
   "source": [
    "score_SVM = round(accuracy_score(y_pred_SVM,y_test)*100,2)\n",
    "print(\"The accuracy score achieved using SVM is: \"+str(score_SVM)+\" %\")\n",
    "\n",
    "print(\"Macro precision : {:.2f} %\".format(100 * precision_score(y_pred_SVM,y_test, average='macro')))\n",
    "tn, fp, fn, tp = confusion_matrix(y_test, y_pred_SVM).ravel()\n",
    "print(tn, fp, fn, tp)\n",
    "precision_SVM = 100 * tp / (tp + fp)\n",
    "recall_SVM = 100 * tp / (tp + fn)\n",
    "print(\"The precision score achieved using SVM is: \"+str(round(precision_SVM, 2))+\" %\")\n",
    "print(\"The recall score achieved using SVM is: \"+str(round(recall_SVM,2))+\" %\")\n",
    "\n",
    "plot_confusion_matrix(clf, X_test, y_test)\n",
    "plt.show()"
   ]
  },
  {
   "cell_type": "markdown",
   "metadata": {
    "id": "MOUZJxRABlqr"
   },
   "source": [
    "## Test 6 : Voting classifier : SVM + RF + LR"
   ]
  },
  {
   "cell_type": "code",
   "execution_count": 26,
   "metadata": {
    "id": "C_e0_5i_Bk4D"
   },
   "outputs": [],
   "source": [
    "from sklearn.ensemble import VotingClassifier\n",
    "\n",
    "X = df_mean_impute.drop(columns = ['Potability'], axis = 1)\n",
    "y = df_mean_impute['Potability'].apply(lambda x:str(x))\n",
    "\n",
    "X_train, X_test, y_train, y_test = train_test_split(X, y, test_size=0.2, random_state=1, stratify = y)\n",
    "\n",
    "clf1 = LogisticRegression()\n",
    "clf2 = RandomForestClassifier()\n",
    "clf3 = SVC(probability=True)\n",
    "\n",
    "eclf = VotingClassifier(estimators=[('lr', clf1), ('rf', clf2), ('svc', clf3)], voting='soft')\n",
    "\n",
    "eclf = eclf.fit(X_train, y_train)\n",
    "score = eclf.score(X_test, y_test)\n",
    "\n",
    "y_pred_VC = eclf.predict(X_test)"
   ]
  },
  {
   "cell_type": "code",
   "execution_count": 27,
   "metadata": {
    "colab": {
     "base_uri": "https://localhost:8080/"
    },
    "id": "58hKIDrZHQFS",
    "outputId": "c4905097-d61e-45e9-cfe6-a4cb8346270b"
   },
   "outputs": [
    {
     "name": "stdout",
     "output_type": "stream",
     "text": [
      "The accuracy score achieved using voting classifier is: 69.36 %\n",
      "Macro precision : 62.08 %\n",
      "381 19 182 74\n",
      "The precision score achieved using voting classifier is: 79.57 %\n",
      "The recall score achieved using voting classifier is: 28.91 %\n"
     ]
    },
    {
     "data": {
      "image/png": "[encoded data removed]",
      "text/plain": [
       "<Figure size 432x288 with 2 Axes>"
      ]
     },
     "metadata": {
      "needs_background": "light"
     },
     "output_type": "display_data"
    }
   ],
   "source": [
    "score_VC = round(accuracy_score(y_pred_VC,y_test)*100,2)\n",
    "print(\"The accuracy score achieved using voting classifier is: \"+str(score_VC)+\" %\")\n",
    "\n",
    "print(\"Macro precision : {:.2f} %\".format(100 * precision_score(y_pred_VC,y_test, average='macro')))\n",
    "tn, fp, fn, tp = confusion_matrix(y_test, y_pred_VC).ravel()\n",
    "print(tn, fp, fn, tp)\n",
    "precision_VC = 100 * tp / (tp + fp)\n",
    "recall_VC = 100 * tp / (tp + fn)\n",
    "print(\"The precision score achieved using voting classifier is: \"+str(round(precision_VC, 2))+\" %\")\n",
    "print(\"The recall score achieved using voting classifier is: \"+str(round(recall_VC,2))+\" %\")\n",
    "\n",
    "plot_confusion_matrix(clf, X_test, y_test)\n",
    "plt.show()"
   ]
  },
  {
   "cell_type": "markdown",
   "metadata": {},
   "source": [
    "# Neural Network"
   ]
  },
  {
   "cell_type": "code",
   "execution_count": 28,
   "metadata": {},
   "outputs": [],
   "source": [
    "from keras.models import Sequential\n",
    "from keras.layers import Dense"
   ]
  },
  {
   "cell_type": "code",
   "execution_count": 41,
   "metadata": {},
   "outputs": [],
   "source": [
    "X = df_mean_impute.drop(columns = ['Potability'], axis = 1)\n",
    "y = df_mean_impute['Potability']\n",
    "\n",
    "X_train, X_test, y_train, y_test = train_test_split(X, y, test_size=0.2, random_state=1, stratify = y)"
   ]
  },
  {
   "cell_type": "code",
   "execution_count": 42,
   "metadata": {},
   "outputs": [
    {
     "name": "stdout",
     "output_type": "stream",
     "text": [
      "(2620, 9)\n",
      "(2620,)\n"
     ]
    }
   ],
   "source": [
    "print(X_train.shape)\n",
    "print(y_train.shape)"
   ]
  },
  {
   "cell_type": "code",
   "execution_count": 43,
   "metadata": {},
   "outputs": [
    {
     "name": "stdout",
     "output_type": "stream",
     "text": [
      "Epoch 1/300\n",
      "82/82 [==============================] - 2s 2ms/step - loss: 0.7268 - accuracy: 0.5160\n",
      "Epoch 2/300\n",
      "82/82 [==============================] - 0s 1ms/step - loss: 0.6842 - accuracy: 0.5712\n",
      "Epoch 3/300\n",
      "82/82 [==============================] - 0s 1ms/step - loss: 0.6693 - accuracy: 0.5980\n",
      "Epoch 4/300\n",
      "82/82 [==============================] - 0s 1ms/step - loss: 0.6662 - accuracy: 0.6078\n",
      "Epoch 5/300\n",
      "82/82 [==============================] - 0s 1ms/step - loss: 0.6474 - accuracy: 0.6366\n",
      "Epoch 6/300\n",
      "82/82 [==============================] - 0s 1ms/step - loss: 0.6456 - accuracy: 0.6246\n",
      "Epoch 7/300\n",
      "82/82 [==============================] - 0s 1ms/step - loss: 0.6423 - accuracy: 0.6332\n",
      "Epoch 8/300\n",
      "82/82 [==============================] - 0s 1ms/step - loss: 0.6343 - accuracy: 0.6431\n",
      "Epoch 9/300\n",
      "82/82 [==============================] - 0s 1000us/step - loss: 0.6364 - accuracy: 0.6408\n",
      "Epoch 10/300\n",
      "82/82 [==============================] - 0s 975us/step - loss: 0.6333 - accuracy: 0.6454\n",
      "Epoch 11/300\n",
      "82/82 [==============================] - 0s 988us/step - loss: 0.6281 - accuracy: 0.6518\n",
      "Epoch 12/300\n",
      "82/82 [==============================] - 0s 986us/step - loss: 0.6242 - accuracy: 0.6607\n",
      "Epoch 13/300\n",
      "82/82 [==============================] - 0s 987us/step - loss: 0.6181 - accuracy: 0.6832\n",
      "Epoch 14/300\n",
      "82/82 [==============================] - 0s 987us/step - loss: 0.6164 - accuracy: 0.6718\n",
      "Epoch 15/300\n",
      "82/82 [==============================] - 0s 999us/step - loss: 0.6232 - accuracy: 0.6532\n",
      "Epoch 16/300\n",
      "82/82 [==============================] - 0s 999us/step - loss: 0.6271 - accuracy: 0.6615\n",
      "Epoch 17/300\n",
      "82/82 [==============================] - 0s 988us/step - loss: 0.5989 - accuracy: 0.6910\n",
      "Epoch 18/300\n",
      "82/82 [==============================] - 0s 988us/step - loss: 0.6018 - accuracy: 0.6911\n",
      "Epoch 19/300\n",
      "82/82 [==============================] - 0s 1ms/step - loss: 0.5972 - accuracy: 0.6998\n",
      "Epoch 20/300\n",
      "82/82 [==============================] - 0s 1ms/step - loss: 0.6020 - accuracy: 0.6913\n",
      "Epoch 21/300\n",
      "82/82 [==============================] - 0s 1ms/step - loss: 0.5999 - accuracy: 0.6932\n",
      "Epoch 22/300\n",
      "82/82 [==============================] - 0s 1ms/step - loss: 0.5953 - accuracy: 0.6940\n",
      "Epoch 23/300\n",
      "82/82 [==============================] - 0s 1ms/step - loss: 0.5930 - accuracy: 0.6964\n",
      "Epoch 24/300\n",
      "82/82 [==============================] - 0s 1ms/step - loss: 0.5947 - accuracy: 0.6859: 0s - loss: 0.5929 - accuracy: 0.68\n",
      "Epoch 25/300\n",
      "82/82 [==============================] - 0s 1ms/step - loss: 0.5920 - accuracy: 0.6903\n",
      "Epoch 26/300\n",
      "82/82 [==============================] - 0s 1ms/step - loss: 0.5924 - accuracy: 0.6940\n",
      "Epoch 27/300\n",
      "82/82 [==============================] - 0s 1ms/step - loss: 0.5849 - accuracy: 0.6940\n",
      "Epoch 28/300\n",
      "82/82 [==============================] - 0s 1ms/step - loss: 0.5922 - accuracy: 0.6936\n",
      "Epoch 29/300\n",
      "82/82 [==============================] - 0s 1ms/step - loss: 0.6018 - accuracy: 0.6687\n",
      "Epoch 30/300\n",
      "82/82 [==============================] - 0s 1ms/step - loss: 0.5752 - accuracy: 0.7119\n",
      "Epoch 31/300\n",
      "82/82 [==============================] - 0s 1ms/step - loss: 0.5916 - accuracy: 0.6911\n",
      "Epoch 32/300\n",
      "82/82 [==============================] - 0s 1ms/step - loss: 0.5820 - accuracy: 0.6981\n",
      "Epoch 33/300\n",
      "82/82 [==============================] - 0s 1ms/step - loss: 0.5836 - accuracy: 0.7063\n",
      "Epoch 34/300\n",
      "82/82 [==============================] - 0s 1ms/step - loss: 0.5935 - accuracy: 0.6872\n",
      "Epoch 35/300\n",
      "82/82 [==============================] - 0s 1ms/step - loss: 0.5985 - accuracy: 0.6883\n",
      "Epoch 36/300\n",
      "82/82 [==============================] - 0s 1ms/step - loss: 0.5997 - accuracy: 0.6877\n",
      "Epoch 37/300\n",
      "82/82 [==============================] - 0s 1ms/step - loss: 0.5946 - accuracy: 0.6936\n",
      "Epoch 38/300\n",
      "82/82 [==============================] - 0s 1ms/step - loss: 0.5829 - accuracy: 0.7049\n",
      "Epoch 39/300\n",
      "82/82 [==============================] - 0s 1ms/step - loss: 0.5808 - accuracy: 0.6943\n",
      "Epoch 40/300\n",
      "82/82 [==============================] - 0s 988us/step - loss: 0.5913 - accuracy: 0.6860\n",
      "Epoch 41/300\n",
      "82/82 [==============================] - 0s 1ms/step - loss: 0.5917 - accuracy: 0.6878\n",
      "Epoch 42/300\n",
      "82/82 [==============================] - 0s 1ms/step - loss: 0.5959 - accuracy: 0.6857\n",
      "Epoch 43/300\n",
      "82/82 [==============================] - 0s 1ms/step - loss: 0.5782 - accuracy: 0.6865\n",
      "Epoch 44/300\n",
      "82/82 [==============================] - 0s 1ms/step - loss: 0.5792 - accuracy: 0.7008\n",
      "Epoch 45/300\n",
      "82/82 [==============================] - 0s 1ms/step - loss: 0.5808 - accuracy: 0.6926\n",
      "Epoch 46/300\n",
      "82/82 [==============================] - 0s 1ms/step - loss: 0.5902 - accuracy: 0.6832\n",
      "Epoch 47/300\n",
      "82/82 [==============================] - 0s 1ms/step - loss: 0.5772 - accuracy: 0.6929\n",
      "Epoch 48/300\n",
      "82/82 [==============================] - 0s 1ms/step - loss: 0.5781 - accuracy: 0.6935\n",
      "Epoch 49/300\n",
      "82/82 [==============================] - 0s 1ms/step - loss: 0.5961 - accuracy: 0.6899\n",
      "Epoch 50/300\n",
      "82/82 [==============================] - 0s 1ms/step - loss: 0.5892 - accuracy: 0.6757\n",
      "Epoch 51/300\n",
      "82/82 [==============================] - 0s 1ms/step - loss: 0.5819 - accuracy: 0.6922\n",
      "Epoch 52/300\n",
      "82/82 [==============================] - 0s 1ms/step - loss: 0.5843 - accuracy: 0.6790\n",
      "Epoch 53/300\n",
      "82/82 [==============================] - 0s 1ms/step - loss: 0.5836 - accuracy: 0.6835\n",
      "Epoch 54/300\n",
      "82/82 [==============================] - 0s 1ms/step - loss: 0.5791 - accuracy: 0.6937\n",
      "Epoch 55/300\n",
      "82/82 [==============================] - 0s 1ms/step - loss: 0.5866 - accuracy: 0.6854\n",
      "Epoch 56/300\n",
      "82/82 [==============================] - 0s 1ms/step - loss: 0.5845 - accuracy: 0.6845\n",
      "Epoch 57/300\n",
      "82/82 [==============================] - 0s 1ms/step - loss: 0.5806 - accuracy: 0.6939\n",
      "Epoch 58/300\n",
      "82/82 [==============================] - 0s 1ms/step - loss: 0.5772 - accuracy: 0.6951\n",
      "Epoch 59/300\n",
      "82/82 [==============================] - 0s 988us/step - loss: 0.5788 - accuracy: 0.6843\n",
      "Epoch 60/300\n",
      "82/82 [==============================] - 0s 1ms/step - loss: 0.5809 - accuracy: 0.6873\n",
      "Epoch 61/300\n",
      "82/82 [==============================] - 0s 1ms/step - loss: 0.5747 - accuracy: 0.7017\n",
      "Epoch 62/300\n",
      "82/82 [==============================] - 0s 999us/step - loss: 0.5953 - accuracy: 0.6712\n",
      "Epoch 63/300\n",
      "82/82 [==============================] - 0s 963us/step - loss: 0.5786 - accuracy: 0.7023\n",
      "Epoch 64/300\n",
      "82/82 [==============================] - 0s 951us/step - loss: 0.5804 - accuracy: 0.6927\n",
      "Epoch 65/300\n",
      "82/82 [==============================] - 0s 951us/step - loss: 0.5918 - accuracy: 0.6862\n",
      "Epoch 66/300\n",
      "82/82 [==============================] - 0s 979us/step - loss: 0.5835 - accuracy: 0.6848\n",
      "Epoch 67/300\n",
      "82/82 [==============================] - 0s 994us/step - loss: 0.5727 - accuracy: 0.7053\n",
      "Epoch 68/300\n",
      "82/82 [==============================] - 0s 1ms/step - loss: 0.5871 - accuracy: 0.6790\n",
      "Epoch 69/300\n",
      "82/82 [==============================] - 0s 951us/step - loss: 0.5832 - accuracy: 0.6857\n",
      "Epoch 70/300\n",
      "82/82 [==============================] - 0s 987us/step - loss: 0.5724 - accuracy: 0.6969\n",
      "Epoch 71/300\n",
      "82/82 [==============================] - 0s 1ms/step - loss: 0.5717 - accuracy: 0.6963\n",
      "Epoch 72/300\n",
      "82/82 [==============================] - 0s 987us/step - loss: 0.5850 - accuracy: 0.6921\n",
      "Epoch 73/300\n",
      "82/82 [==============================] - 0s 986us/step - loss: 0.5834 - accuracy: 0.6933\n",
      "Epoch 74/300\n",
      "82/82 [==============================] - 0s 1ms/step - loss: 0.5760 - accuracy: 0.7057\n",
      "Epoch 75/300\n",
      "82/82 [==============================] - 0s 979us/step - loss: 0.5743 - accuracy: 0.7000\n",
      "Epoch 76/300\n",
      "82/82 [==============================] - 0s 938us/step - loss: 0.5798 - accuracy: 0.6940\n",
      "Epoch 77/300\n",
      "82/82 [==============================] - 0s 1ms/step - loss: 0.5843 - accuracy: 0.6961\n",
      "Epoch 78/300\n",
      "82/82 [==============================] - 0s 1ms/step - loss: 0.5753 - accuracy: 0.7080\n",
      "Epoch 79/300\n",
      "82/82 [==============================] - 0s 1ms/step - loss: 0.5747 - accuracy: 0.7009\n",
      "Epoch 80/300\n",
      "82/82 [==============================] - 0s 1ms/step - loss: 0.5787 - accuracy: 0.7018: 0s - loss: 0.5759 - accuracy: 0.70\n",
      "Epoch 81/300\n"
     ]
    },
    {
     "name": "stdout",
     "output_type": "stream",
     "text": [
      "82/82 [==============================] - 0s 1ms/step - loss: 0.5721 - accuracy: 0.6913\n",
      "Epoch 82/300\n",
      "82/82 [==============================] - 0s 1ms/step - loss: 0.5732 - accuracy: 0.6942\n",
      "Epoch 83/300\n",
      "82/82 [==============================] - 0s 988us/step - loss: 0.5808 - accuracy: 0.7002\n",
      "Epoch 84/300\n",
      "82/82 [==============================] - 0s 1ms/step - loss: 0.5824 - accuracy: 0.6873\n",
      "Epoch 85/300\n",
      "82/82 [==============================] - 0s 938us/step - loss: 0.5959 - accuracy: 0.6724\n",
      "Epoch 86/300\n",
      "82/82 [==============================] - 0s 951us/step - loss: 0.5708 - accuracy: 0.6932\n",
      "Epoch 87/300\n",
      "82/82 [==============================] - 0s 964us/step - loss: 0.5847 - accuracy: 0.6880\n",
      "Epoch 88/300\n",
      "82/82 [==============================] - 0s 952us/step - loss: 0.5905 - accuracy: 0.6893\n",
      "Epoch 89/300\n",
      "82/82 [==============================] - 0s 948us/step - loss: 0.5876 - accuracy: 0.6796\n",
      "Epoch 90/300\n",
      "82/82 [==============================] - 0s 951us/step - loss: 0.5880 - accuracy: 0.6851\n",
      "Epoch 91/300\n",
      "82/82 [==============================] - 0s 963us/step - loss: 0.5853 - accuracy: 0.6853\n",
      "Epoch 92/300\n",
      "82/82 [==============================] - 0s 950us/step - loss: 0.5820 - accuracy: 0.7014\n",
      "Epoch 93/300\n",
      "82/82 [==============================] - 0s 951us/step - loss: 0.5814 - accuracy: 0.6896\n",
      "Epoch 94/300\n",
      "82/82 [==============================] - 0s 963us/step - loss: 0.5668 - accuracy: 0.6955\n",
      "Epoch 95/300\n",
      "82/82 [==============================] - 0s 1ms/step - loss: 0.5708 - accuracy: 0.6986\n",
      "Epoch 96/300\n",
      "82/82 [==============================] - 0s 1ms/step - loss: 0.5666 - accuracy: 0.7062\n",
      "Epoch 97/300\n",
      "82/82 [==============================] - 0s 1ms/step - loss: 0.5689 - accuracy: 0.7036\n",
      "Epoch 98/300\n",
      "82/82 [==============================] - 0s 1ms/step - loss: 0.5855 - accuracy: 0.6852\n",
      "Epoch 99/300\n",
      "82/82 [==============================] - 0s 1ms/step - loss: 0.5889 - accuracy: 0.6784\n",
      "Epoch 100/300\n",
      "82/82 [==============================] - 0s 960us/step - loss: 0.5751 - accuracy: 0.7033\n",
      "Epoch 101/300\n",
      "82/82 [==============================] - 0s 963us/step - loss: 0.5673 - accuracy: 0.6981\n",
      "Epoch 102/300\n",
      "82/82 [==============================] - 0s 963us/step - loss: 0.5902 - accuracy: 0.6859\n",
      "Epoch 103/300\n",
      "82/82 [==============================] - 0s 963us/step - loss: 0.5787 - accuracy: 0.6954\n",
      "Epoch 104/300\n",
      "82/82 [==============================] - 0s 958us/step - loss: 0.5640 - accuracy: 0.7046\n",
      "Epoch 105/300\n",
      "82/82 [==============================] - 0s 969us/step - loss: 0.5754 - accuracy: 0.6884\n",
      "Epoch 106/300\n",
      "82/82 [==============================] - 0s 978us/step - loss: 0.5912 - accuracy: 0.6786\n",
      "Epoch 107/300\n",
      "82/82 [==============================] - 0s 1ms/step - loss: 0.5757 - accuracy: 0.6935\n",
      "Epoch 108/300\n",
      "82/82 [==============================] - 0s 975us/step - loss: 0.5914 - accuracy: 0.6782\n",
      "Epoch 109/300\n",
      "82/82 [==============================] - 0s 1ms/step - loss: 0.5758 - accuracy: 0.6984\n",
      "Epoch 110/300\n",
      "82/82 [==============================] - 0s 1ms/step - loss: 0.5736 - accuracy: 0.7033\n",
      "Epoch 111/300\n",
      "82/82 [==============================] - 0s 1ms/step - loss: 0.5718 - accuracy: 0.6894\n",
      "Epoch 112/300\n",
      "82/82 [==============================] - 0s 939us/step - loss: 0.5756 - accuracy: 0.6927\n",
      "Epoch 113/300\n",
      "82/82 [==============================] - 0s 948us/step - loss: 0.5763 - accuracy: 0.6942\n",
      "Epoch 114/300\n",
      "82/82 [==============================] - 0s 1ms/step - loss: 0.5834 - accuracy: 0.6837\n",
      "Epoch 115/300\n",
      "82/82 [==============================] - 0s 988us/step - loss: 0.5749 - accuracy: 0.6920\n",
      "Epoch 116/300\n",
      "82/82 [==============================] - 0s 978us/step - loss: 0.5792 - accuracy: 0.6894\n",
      "Epoch 117/300\n",
      "82/82 [==============================] - 0s 988us/step - loss: 0.5761 - accuracy: 0.6963\n",
      "Epoch 118/300\n",
      "82/82 [==============================] - 0s 939us/step - loss: 0.5768 - accuracy: 0.7009\n",
      "Epoch 119/300\n",
      "82/82 [==============================] - 0s 998us/step - loss: 0.5709 - accuracy: 0.7098\n",
      "Epoch 120/300\n",
      "82/82 [==============================] - 0s 972us/step - loss: 0.5786 - accuracy: 0.6837\n",
      "Epoch 121/300\n",
      "82/82 [==============================] - 0s 938us/step - loss: 0.5688 - accuracy: 0.6998\n",
      "Epoch 122/300\n",
      "82/82 [==============================] - 0s 938us/step - loss: 0.5868 - accuracy: 0.6885\n",
      "Epoch 123/300\n",
      "82/82 [==============================] - 0s 951us/step - loss: 0.5872 - accuracy: 0.6891\n",
      "Epoch 124/300\n",
      "82/82 [==============================] - 0s 962us/step - loss: 0.5699 - accuracy: 0.7003\n",
      "Epoch 125/300\n",
      "82/82 [==============================] - 0s 963us/step - loss: 0.5790 - accuracy: 0.6798\n",
      "Epoch 126/300\n",
      "82/82 [==============================] - 0s 951us/step - loss: 0.5737 - accuracy: 0.6998\n",
      "Epoch 127/300\n",
      "82/82 [==============================] - 0s 963us/step - loss: 0.5786 - accuracy: 0.6973\n",
      "Epoch 128/300\n",
      "82/82 [==============================] - 0s 939us/step - loss: 0.5713 - accuracy: 0.6921\n",
      "Epoch 129/300\n",
      "82/82 [==============================] - 0s 951us/step - loss: 0.5805 - accuracy: 0.6824\n",
      "Epoch 130/300\n",
      "82/82 [==============================] - 0s 951us/step - loss: 0.5650 - accuracy: 0.7044\n",
      "Epoch 131/300\n",
      "82/82 [==============================] - 0s 960us/step - loss: 0.5687 - accuracy: 0.7150\n",
      "Epoch 132/300\n",
      "82/82 [==============================] - 0s 938us/step - loss: 0.5660 - accuracy: 0.7031\n",
      "Epoch 133/300\n",
      "82/82 [==============================] - 0s 967us/step - loss: 0.5726 - accuracy: 0.7045\n",
      "Epoch 134/300\n",
      "82/82 [==============================] - 0s 1ms/step - loss: 0.5776 - accuracy: 0.6940\n",
      "Epoch 135/300\n",
      "82/82 [==============================] - 0s 950us/step - loss: 0.5808 - accuracy: 0.6838\n",
      "Epoch 136/300\n",
      "82/82 [==============================] - 0s 965us/step - loss: 0.5719 - accuracy: 0.6882\n",
      "Epoch 137/300\n",
      "82/82 [==============================] - 0s 1ms/step - loss: 0.5718 - accuracy: 0.6950\n",
      "Epoch 138/300\n",
      "82/82 [==============================] - 0s 963us/step - loss: 0.5788 - accuracy: 0.6858\n",
      "Epoch 139/300\n",
      "82/82 [==============================] - 0s 951us/step - loss: 0.5729 - accuracy: 0.6913\n",
      "Epoch 140/300\n",
      "82/82 [==============================] - 0s 949us/step - loss: 0.5774 - accuracy: 0.6852\n",
      "Epoch 141/300\n",
      "82/82 [==============================] - 0s 962us/step - loss: 0.5840 - accuracy: 0.6746\n",
      "Epoch 142/300\n",
      "82/82 [==============================] - 0s 975us/step - loss: 0.5714 - accuracy: 0.6989\n",
      "Epoch 143/300\n",
      "82/82 [==============================] - 0s 967us/step - loss: 0.5641 - accuracy: 0.7089\n",
      "Epoch 144/300\n",
      "82/82 [==============================] - 0s 963us/step - loss: 0.5912 - accuracy: 0.6832\n",
      "Epoch 145/300\n",
      "82/82 [==============================] - 0s 951us/step - loss: 0.5676 - accuracy: 0.7020\n",
      "Epoch 146/300\n",
      "82/82 [==============================] - 0s 1ms/step - loss: 0.5782 - accuracy: 0.6845\n",
      "Epoch 147/300\n",
      "82/82 [==============================] - 0s 1ms/step - loss: 0.5753 - accuracy: 0.6941\n",
      "Epoch 148/300\n",
      "82/82 [==============================] - 0s 1ms/step - loss: 0.5664 - accuracy: 0.7028\n",
      "Epoch 149/300\n",
      "82/82 [==============================] - 0s 1ms/step - loss: 0.5797 - accuracy: 0.6840\n",
      "Epoch 150/300\n",
      "82/82 [==============================] - 0s 1ms/step - loss: 0.5666 - accuracy: 0.7054\n",
      "Epoch 151/300\n",
      "82/82 [==============================] - 0s 1ms/step - loss: 0.5583 - accuracy: 0.7079\n",
      "Epoch 152/300\n",
      "82/82 [==============================] - 0s 1ms/step - loss: 0.5721 - accuracy: 0.7010\n",
      "Epoch 153/300\n",
      "82/82 [==============================] - 0s 1ms/step - loss: 0.5737 - accuracy: 0.6885\n",
      "Epoch 154/300\n",
      "82/82 [==============================] - 0s 1ms/step - loss: 0.5892 - accuracy: 0.6863\n",
      "Epoch 155/300\n",
      "82/82 [==============================] - 0s 1ms/step - loss: 0.5682 - accuracy: 0.7046\n",
      "Epoch 156/300\n",
      "82/82 [==============================] - 0s 1ms/step - loss: 0.5763 - accuracy: 0.6931\n",
      "Epoch 157/300\n",
      "82/82 [==============================] - 0s 1ms/step - loss: 0.5744 - accuracy: 0.6950\n",
      "Epoch 158/300\n",
      "82/82 [==============================] - 0s 1ms/step - loss: 0.5899 - accuracy: 0.6924\n",
      "Epoch 159/300\n",
      "82/82 [==============================] - 0s 1ms/step - loss: 0.5836 - accuracy: 0.6934\n",
      "Epoch 160/300\n",
      "82/82 [==============================] - 0s 977us/step - loss: 0.6017 - accuracy: 0.6825\n",
      "Epoch 161/300\n"
     ]
    },
    {
     "name": "stdout",
     "output_type": "stream",
     "text": [
      "82/82 [==============================] - 0s 1ms/step - loss: 0.5737 - accuracy: 0.7063\n",
      "Epoch 162/300\n",
      "82/82 [==============================] - 0s 1ms/step - loss: 0.5700 - accuracy: 0.7042\n",
      "Epoch 163/300\n",
      "82/82 [==============================] - 0s 1ms/step - loss: 0.5647 - accuracy: 0.7088\n",
      "Epoch 164/300\n",
      "82/82 [==============================] - 0s 1ms/step - loss: 0.5608 - accuracy: 0.7051\n",
      "Epoch 165/300\n",
      "82/82 [==============================] - 0s 1ms/step - loss: 0.5743 - accuracy: 0.6907: 0s - loss: 0.5762 - accuracy: 0.68\n",
      "Epoch 166/300\n",
      "82/82 [==============================] - 0s 1ms/step - loss: 0.5873 - accuracy: 0.6876\n",
      "Epoch 167/300\n",
      "82/82 [==============================] - 0s 1ms/step - loss: 0.5787 - accuracy: 0.6915\n",
      "Epoch 168/300\n",
      "82/82 [==============================] - 0s 1ms/step - loss: 0.5722 - accuracy: 0.6972\n",
      "Epoch 169/300\n",
      "82/82 [==============================] - 0s 1ms/step - loss: 0.5735 - accuracy: 0.6953\n",
      "Epoch 170/300\n",
      "82/82 [==============================] - 0s 980us/step - loss: 0.5734 - accuracy: 0.6976\n",
      "Epoch 171/300\n",
      "82/82 [==============================] - 0s 979us/step - loss: 0.5769 - accuracy: 0.6892\n",
      "Epoch 172/300\n",
      "82/82 [==============================] - 0s 972us/step - loss: 0.5621 - accuracy: 0.7058\n",
      "Epoch 173/300\n",
      "82/82 [==============================] - 0s 1ms/step - loss: 0.5841 - accuracy: 0.6880\n",
      "Epoch 174/300\n",
      "82/82 [==============================] - 0s 1ms/step - loss: 0.5644 - accuracy: 0.6962\n",
      "Epoch 175/300\n",
      "82/82 [==============================] - 0s 1ms/step - loss: 0.5691 - accuracy: 0.7012\n",
      "Epoch 176/300\n",
      "82/82 [==============================] - 0s 1ms/step - loss: 0.5770 - accuracy: 0.6983\n",
      "Epoch 177/300\n",
      "82/82 [==============================] - 0s 1ms/step - loss: 0.5716 - accuracy: 0.6959\n",
      "Epoch 178/300\n",
      "82/82 [==============================] - 0s 1ms/step - loss: 0.5768 - accuracy: 0.7010\n",
      "Epoch 179/300\n",
      "82/82 [==============================] - 0s 1ms/step - loss: 0.5742 - accuracy: 0.7009\n",
      "Epoch 180/300\n",
      "82/82 [==============================] - 0s 1ms/step - loss: 0.5820 - accuracy: 0.6857\n",
      "Epoch 181/300\n",
      "82/82 [==============================] - 0s 1ms/step - loss: 0.5672 - accuracy: 0.7054\n",
      "Epoch 182/300\n",
      "82/82 [==============================] - 0s 1ms/step - loss: 0.5875 - accuracy: 0.6864\n",
      "Epoch 183/300\n",
      "82/82 [==============================] - 0s 1ms/step - loss: 0.5830 - accuracy: 0.6936\n",
      "Epoch 184/300\n",
      "82/82 [==============================] - 0s 1ms/step - loss: 0.5691 - accuracy: 0.7008\n",
      "Epoch 185/300\n",
      "82/82 [==============================] - 0s 1ms/step - loss: 0.5650 - accuracy: 0.7033\n",
      "Epoch 186/300\n",
      "82/82 [==============================] - 0s 1ms/step - loss: 0.5773 - accuracy: 0.6928\n",
      "Epoch 187/300\n",
      "82/82 [==============================] - 0s 1ms/step - loss: 0.5758 - accuracy: 0.6971\n",
      "Epoch 188/300\n",
      "82/82 [==============================] - 0s 1ms/step - loss: 0.5773 - accuracy: 0.6833\n",
      "Epoch 189/300\n",
      "82/82 [==============================] - 0s 1ms/step - loss: 0.5701 - accuracy: 0.7000\n",
      "Epoch 190/300\n",
      "82/82 [==============================] - 0s 1ms/step - loss: 0.5681 - accuracy: 0.7018\n",
      "Epoch 191/300\n",
      "82/82 [==============================] - 0s 988us/step - loss: 0.5821 - accuracy: 0.7036\n",
      "Epoch 192/300\n",
      "82/82 [==============================] - 0s 999us/step - loss: 0.5604 - accuracy: 0.7065\n",
      "Epoch 193/300\n",
      "82/82 [==============================] - 0s 998us/step - loss: 0.5645 - accuracy: 0.7146\n",
      "Epoch 194/300\n",
      "82/82 [==============================] - 0s 1ms/step - loss: 0.5662 - accuracy: 0.7067\n",
      "Epoch 195/300\n",
      "82/82 [==============================] - 0s 989us/step - loss: 0.5707 - accuracy: 0.6979\n",
      "Epoch 196/300\n",
      "82/82 [==============================] - 0s 1ms/step - loss: 0.5672 - accuracy: 0.7080\n",
      "Epoch 197/300\n",
      "82/82 [==============================] - 0s 1ms/step - loss: 0.5678 - accuracy: 0.7110\n",
      "Epoch 198/300\n",
      "82/82 [==============================] - 0s 988us/step - loss: 0.5751 - accuracy: 0.6924\n",
      "Epoch 199/300\n",
      "82/82 [==============================] - 0s 988us/step - loss: 0.5672 - accuracy: 0.7086\n",
      "Epoch 200/300\n",
      "82/82 [==============================] - 0s 1ms/step - loss: 0.5768 - accuracy: 0.6969\n",
      "Epoch 201/300\n",
      "82/82 [==============================] - 0s 952us/step - loss: 0.5604 - accuracy: 0.7149\n",
      "Epoch 202/300\n",
      "82/82 [==============================] - 0s 988us/step - loss: 0.5723 - accuracy: 0.7008\n",
      "Epoch 203/300\n",
      "82/82 [==============================] - 0s 998us/step - loss: 0.5649 - accuracy: 0.7076\n",
      "Epoch 204/300\n",
      "82/82 [==============================] - 0s 988us/step - loss: 0.5744 - accuracy: 0.6914\n",
      "Epoch 205/300\n",
      "82/82 [==============================] - 0s 988us/step - loss: 0.5744 - accuracy: 0.6923\n",
      "Epoch 206/300\n",
      "82/82 [==============================] - 0s 1ms/step - loss: 0.5663 - accuracy: 0.6973\n",
      "Epoch 207/300\n",
      "82/82 [==============================] - 0s 1ms/step - loss: 0.5671 - accuracy: 0.7110\n",
      "Epoch 208/300\n",
      "82/82 [==============================] - 0s 953us/step - loss: 0.5823 - accuracy: 0.6876\n",
      "Epoch 209/300\n",
      "82/82 [==============================] - 0s 988us/step - loss: 0.5708 - accuracy: 0.6930\n",
      "Epoch 210/300\n",
      "82/82 [==============================] - 0s 1ms/step - loss: 0.5553 - accuracy: 0.7071\n",
      "Epoch 211/300\n",
      "82/82 [==============================] - 0s 988us/step - loss: 0.5629 - accuracy: 0.7152\n",
      "Epoch 212/300\n",
      "82/82 [==============================] - 0s 988us/step - loss: 0.5902 - accuracy: 0.6844\n",
      "Epoch 213/300\n",
      "82/82 [==============================] - 0s 1ms/step - loss: 0.5640 - accuracy: 0.7055\n",
      "Epoch 214/300\n",
      "82/82 [==============================] - 0s 1ms/step - loss: 0.5659 - accuracy: 0.6951\n",
      "Epoch 215/300\n",
      "82/82 [==============================] - 0s 1ms/step - loss: 0.5803 - accuracy: 0.6937\n",
      "Epoch 216/300\n",
      "82/82 [==============================] - 0s 1ms/step - loss: 0.5741 - accuracy: 0.6941\n",
      "Epoch 217/300\n",
      "82/82 [==============================] - 0s 991us/step - loss: 0.5588 - accuracy: 0.7019\n",
      "Epoch 218/300\n",
      "82/82 [==============================] - 0s 1ms/step - loss: 0.5675 - accuracy: 0.7096\n",
      "Epoch 219/300\n",
      "82/82 [==============================] - 0s 1ms/step - loss: 0.5627 - accuracy: 0.7086\n",
      "Epoch 220/300\n",
      "82/82 [==============================] - 0s 1ms/step - loss: 0.5679 - accuracy: 0.6996\n",
      "Epoch 221/300\n",
      "82/82 [==============================] - 0s 949us/step - loss: 0.5642 - accuracy: 0.7134\n",
      "Epoch 222/300\n",
      "82/82 [==============================] - 0s 987us/step - loss: 0.5717 - accuracy: 0.7018\n",
      "Epoch 223/300\n",
      "82/82 [==============================] - 0s 1000us/step - loss: 0.5774 - accuracy: 0.7030\n",
      "Epoch 224/300\n",
      "82/82 [==============================] - 0s 997us/step - loss: 0.5626 - accuracy: 0.7181\n",
      "Epoch 225/300\n",
      "82/82 [==============================] - 0s 997us/step - loss: 0.5862 - accuracy: 0.6871\n",
      "Epoch 226/300\n",
      "82/82 [==============================] - 0s 1ms/step - loss: 0.5810 - accuracy: 0.6871\n",
      "Epoch 227/300\n",
      "82/82 [==============================] - 0s 1ms/step - loss: 0.5654 - accuracy: 0.7110\n",
      "Epoch 228/300\n",
      "82/82 [==============================] - 0s 951us/step - loss: 0.5829 - accuracy: 0.6818\n",
      "Epoch 229/300\n",
      "82/82 [==============================] - 0s 991us/step - loss: 0.5704 - accuracy: 0.7080\n",
      "Epoch 230/300\n",
      "82/82 [==============================] - 0s 975us/step - loss: 0.5611 - accuracy: 0.6964\n",
      "Epoch 231/300\n",
      "82/82 [==============================] - 0s 988us/step - loss: 0.5878 - accuracy: 0.6955\n",
      "Epoch 232/300\n",
      "82/82 [==============================] - 0s 1ms/step - loss: 0.5643 - accuracy: 0.7162\n",
      "Epoch 233/300\n",
      "82/82 [==============================] - 0s 1000us/step - loss: 0.5748 - accuracy: 0.6987\n",
      "Epoch 234/300\n",
      "82/82 [==============================] - 0s 1ms/step - loss: 0.5654 - accuracy: 0.7098\n",
      "Epoch 235/300\n",
      "82/82 [==============================] - 0s 1ms/step - loss: 0.5480 - accuracy: 0.7210\n",
      "Epoch 236/300\n",
      "82/82 [==============================] - 0s 1ms/step - loss: 0.5638 - accuracy: 0.7019\n",
      "Epoch 237/300\n",
      "82/82 [==============================] - 0s 1ms/step - loss: 0.5804 - accuracy: 0.6947\n",
      "Epoch 238/300\n",
      "82/82 [==============================] - 0s 1ms/step - loss: 0.5557 - accuracy: 0.7091\n",
      "Epoch 239/300\n",
      "82/82 [==============================] - 0s 988us/step - loss: 0.5766 - accuracy: 0.7012\n",
      "Epoch 240/300\n",
      "82/82 [==============================] - 0s 973us/step - loss: 0.5613 - accuracy: 0.7197\n",
      "Epoch 241/300\n"
     ]
    },
    {
     "name": "stdout",
     "output_type": "stream",
     "text": [
      "82/82 [==============================] - 0s 1000us/step - loss: 0.5694 - accuracy: 0.7093\n",
      "Epoch 242/300\n",
      "82/82 [==============================] - 0s 1ms/step - loss: 0.5776 - accuracy: 0.7051\n",
      "Epoch 243/300\n",
      "82/82 [==============================] - 0s 1000us/step - loss: 0.5701 - accuracy: 0.7047\n",
      "Epoch 244/300\n",
      "82/82 [==============================] - 0s 963us/step - loss: 0.5705 - accuracy: 0.6962\n",
      "Epoch 245/300\n",
      "82/82 [==============================] - 0s 962us/step - loss: 0.5678 - accuracy: 0.7028\n",
      "Epoch 246/300\n",
      "82/82 [==============================] - 0s 975us/step - loss: 0.5631 - accuracy: 0.6967\n",
      "Epoch 247/300\n",
      "82/82 [==============================] - 0s 975us/step - loss: 0.5703 - accuracy: 0.7020\n",
      "Epoch 248/300\n",
      "82/82 [==============================] - 0s 975us/step - loss: 0.5605 - accuracy: 0.7069\n",
      "Epoch 249/300\n",
      "82/82 [==============================] - 0s 968us/step - loss: 0.5745 - accuracy: 0.7017\n",
      "Epoch 250/300\n",
      "82/82 [==============================] - 0s 962us/step - loss: 0.5761 - accuracy: 0.7042\n",
      "Epoch 251/300\n",
      "82/82 [==============================] - 0s 1ms/step - loss: 0.5564 - accuracy: 0.7208\n",
      "Epoch 252/300\n",
      "82/82 [==============================] - 0s 1ms/step - loss: 0.5693 - accuracy: 0.7026\n",
      "Epoch 253/300\n",
      "82/82 [==============================] - 0s 1ms/step - loss: 0.5572 - accuracy: 0.7108\n",
      "Epoch 254/300\n",
      "82/82 [==============================] - 0s 1ms/step - loss: 0.5830 - accuracy: 0.6783\n",
      "Epoch 255/300\n",
      "82/82 [==============================] - 0s 1ms/step - loss: 0.5658 - accuracy: 0.6918\n",
      "Epoch 256/300\n",
      "82/82 [==============================] - 0s 995us/step - loss: 0.5567 - accuracy: 0.7184\n",
      "Epoch 257/300\n",
      "82/82 [==============================] - 0s 988us/step - loss: 0.5664 - accuracy: 0.7060\n",
      "Epoch 258/300\n",
      "82/82 [==============================] - 0s 974us/step - loss: 0.5760 - accuracy: 0.6963\n",
      "Epoch 259/300\n",
      "82/82 [==============================] - 0s 950us/step - loss: 0.5679 - accuracy: 0.7010\n",
      "Epoch 260/300\n",
      "82/82 [==============================] - 0s 934us/step - loss: 0.5760 - accuracy: 0.6914\n",
      "Epoch 261/300\n",
      "82/82 [==============================] - 0s 963us/step - loss: 0.5666 - accuracy: 0.7104\n",
      "Epoch 262/300\n",
      "82/82 [==============================] - 0s 954us/step - loss: 0.5625 - accuracy: 0.7136\n",
      "Epoch 263/300\n",
      "82/82 [==============================] - 0s 962us/step - loss: 0.5622 - accuracy: 0.7087\n",
      "Epoch 264/300\n",
      "82/82 [==============================] - 0s 949us/step - loss: 0.5785 - accuracy: 0.6942\n",
      "Epoch 265/300\n",
      "82/82 [==============================] - 0s 951us/step - loss: 0.5697 - accuracy: 0.7027\n",
      "Epoch 266/300\n",
      "82/82 [==============================] - 0s 1ms/step - loss: 0.5713 - accuracy: 0.6965\n",
      "Epoch 267/300\n",
      "82/82 [==============================] - 0s 1000us/step - loss: 0.5790 - accuracy: 0.7007\n",
      "Epoch 268/300\n",
      "82/82 [==============================] - 0s 991us/step - loss: 0.5793 - accuracy: 0.6938\n",
      "Epoch 269/300\n",
      "82/82 [==============================] - 0s 1ms/step - loss: 0.5709 - accuracy: 0.7020\n",
      "Epoch 270/300\n",
      "82/82 [==============================] - 0s 988us/step - loss: 0.5737 - accuracy: 0.6947\n",
      "Epoch 271/300\n",
      "82/82 [==============================] - 0s 1ms/step - loss: 0.5602 - accuracy: 0.7100\n",
      "Epoch 272/300\n",
      "82/82 [==============================] - 0s 1000us/step - loss: 0.5727 - accuracy: 0.6934\n",
      "Epoch 273/300\n",
      "82/82 [==============================] - 0s 1ms/step - loss: 0.5743 - accuracy: 0.7000\n",
      "Epoch 274/300\n",
      "82/82 [==============================] - 0s 965us/step - loss: 0.5691 - accuracy: 0.6999\n",
      "Epoch 275/300\n",
      "82/82 [==============================] - 0s 970us/step - loss: 0.5694 - accuracy: 0.6933\n",
      "Epoch 276/300\n",
      "82/82 [==============================] - 0s 988us/step - loss: 0.5631 - accuracy: 0.7048\n",
      "Epoch 277/300\n",
      "82/82 [==============================] - 0s 963us/step - loss: 0.5837 - accuracy: 0.6840\n",
      "Epoch 278/300\n",
      "82/82 [==============================] - 0s 974us/step - loss: 0.5838 - accuracy: 0.6841\n",
      "Epoch 279/300\n",
      "82/82 [==============================] - 0s 988us/step - loss: 0.5772 - accuracy: 0.6887\n",
      "Epoch 280/300\n",
      "82/82 [==============================] - 0s 1ms/step - loss: 0.5745 - accuracy: 0.7006\n",
      "Epoch 281/300\n",
      "82/82 [==============================] - 0s 990us/step - loss: 0.5590 - accuracy: 0.7072\n",
      "Epoch 282/300\n",
      "82/82 [==============================] - 0s 1ms/step - loss: 0.5702 - accuracy: 0.7010\n",
      "Epoch 283/300\n",
      "82/82 [==============================] - 0s 1ms/step - loss: 0.5649 - accuracy: 0.6959\n",
      "Epoch 284/300\n",
      "82/82 [==============================] - 0s 1ms/step - loss: 0.5830 - accuracy: 0.6946\n",
      "Epoch 285/300\n",
      "82/82 [==============================] - 0s 1ms/step - loss: 0.5770 - accuracy: 0.6892\n",
      "Epoch 286/300\n",
      "82/82 [==============================] - 0s 1ms/step - loss: 0.5644 - accuracy: 0.7116\n",
      "Epoch 287/300\n",
      "82/82 [==============================] - 0s 1ms/step - loss: 0.5566 - accuracy: 0.7109\n",
      "Epoch 288/300\n",
      "82/82 [==============================] - 0s 1ms/step - loss: 0.5797 - accuracy: 0.6896\n",
      "Epoch 289/300\n",
      "82/82 [==============================] - 0s 1000us/step - loss: 0.5723 - accuracy: 0.6966\n",
      "Epoch 290/300\n",
      "82/82 [==============================] - 0s 988us/step - loss: 0.5676 - accuracy: 0.7136\n",
      "Epoch 291/300\n",
      "82/82 [==============================] - 0s 1ms/step - loss: 0.5777 - accuracy: 0.6993\n",
      "Epoch 292/300\n",
      "82/82 [==============================] - 0s 1000us/step - loss: 0.5608 - accuracy: 0.7034\n",
      "Epoch 293/300\n",
      "82/82 [==============================] - 0s 1ms/step - loss: 0.5659 - accuracy: 0.7108\n",
      "Epoch 294/300\n",
      "82/82 [==============================] - 0s 1ms/step - loss: 0.5589 - accuracy: 0.7129\n",
      "Epoch 295/300\n",
      "82/82 [==============================] - 0s 1ms/step - loss: 0.5641 - accuracy: 0.7018\n",
      "Epoch 296/300\n",
      "82/82 [==============================] - 0s 1ms/step - loss: 0.5674 - accuracy: 0.7109\n",
      "Epoch 297/300\n",
      "82/82 [==============================] - 0s 1ms/step - loss: 0.5691 - accuracy: 0.6979\n",
      "Epoch 298/300\n",
      "82/82 [==============================] - 0s 1ms/step - loss: 0.5739 - accuracy: 0.7019\n",
      "Epoch 299/300\n",
      "82/82 [==============================] - 0s 1ms/step - loss: 0.5678 - accuracy: 0.7026\n",
      "Epoch 300/300\n",
      "82/82 [==============================] - 0s 1ms/step - loss: 0.5674 - accuracy: 0.7009\n"
     ]
    }
   ],
   "source": [
    "input_dimension = X_train.shape[1]\n",
    "\n",
    "model = Sequential()\n",
    "model.add(Dense(10,activation='relu',input_dim=input_dimension))\n",
    "model.add(Dense(1,activation='sigmoid'))\n",
    "\n",
    "model.compile(loss='binary_crossentropy',optimizer='adam',metrics=['accuracy'])\n",
    "model.fit(X_train,y_train,epochs=300)\n",
    "\n",
    "Y_pred_nn = model.predict(X_test)\n"
   ]
  },
  {
   "cell_type": "code",
   "execution_count": 52,
   "metadata": {},
   "outputs": [
    {
     "name": "stdout",
     "output_type": "stream",
     "text": [
      "[0, 0, 1, 1, 0, 0, 0, 1, 0, 0, 0, 1, 1, 0, 0, 0, 1, 1, 1, 0, 1, 0, 0, 0, 0, 0, 0, 0, 0, 1, 0, 0, 0, 1, 0, 0, 0, 1, 0, 0, 1, 0, 0, 0, 1, 0, 0, 0, 0, 1, 0, 1, 0, 0, 0, 0, 1, 1, 0, 0, 0, 0, 1, 1, 0, 0, 0, 0, 0, 0, 0, 1, 0, 0, 0, 0, 0, 0, 0, 0, 0, 0, 0, 1, 0, 0, 0, 0, 0, 1, 0, 0, 0, 1, 0, 0, 0, 0, 0, 0, 0, 0, 0, 0, 0, 0, 0, 1, 0, 0, 1, 0, 0, 0, 0, 1, 0, 0, 1, 1, 0, 0, 0, 0, 0, 0, 0, 0, 1, 0, 1, 1, 0, 0, 0, 0, 0, 0, 0, 0, 0, 0, 0, 1, 1, 0, 0, 0, 1, 1, 0, 0, 0, 0, 0, 0, 0, 1, 0, 0, 0, 0, 0, 0, 0, 1, 1, 0, 0, 0, 0, 0, 0, 0, 1, 1, 1, 0, 0, 0, 1, 0, 0, 0, 0, 1, 0, 1, 0, 0, 0, 0, 1, 0, 0, 0, 0, 0, 1, 0, 0, 0, 0, 0, 0, 1, 0, 0, 0, 0, 0, 1, 0, 1, 0, 1, 1, 0, 0, 1, 0, 1, 0, 0, 0, 1, 0, 0, 0, 0, 0, 1, 0, 0, 0, 0, 1, 0, 0, 0, 1, 0, 0, 0, 0, 0, 0, 0, 0, 0, 0, 0, 0, 0, 0, 0, 1, 0, 0, 0, 0, 1, 0, 0, 0, 0, 0, 0, 0, 0, 0, 0, 1, 1, 0, 0, 0, 0, 0, 0, 0, 0, 1, 0, 1, 0, 0, 0, 0, 1, 0, 1, 0, 0, 1, 0, 0, 0, 0, 0, 0, 1, 0, 1, 0, 0, 1, 0, 0, 0, 0, 0, 0, 1, 1, 0, 0, 0, 0, 0, 0, 0, 0, 0, 0, 0, 1, 0, 1, 0, 0, 0, 1, 0, 0, 0, 0, 1, 0, 1, 0, 0, 0, 1, 1, 0, 1, 0, 0, 0, 0, 1, 0, 0, 1, 0, 0, 0, 0, 0, 0, 0, 0, 0, 1, 0, 0, 1, 0, 0, 0, 1, 1, 0, 0, 0, 0, 0, 0, 0, 0, 0, 0, 0, 1, 0, 0, 1, 0, 0, 0, 0, 0, 1, 0, 0, 1, 0, 1, 1, 0, 0, 0, 0, 0, 0, 0, 0, 1, 0, 0, 0, 0, 0, 0, 0, 0, 0, 1, 1, 1, 0, 0, 0, 0, 0, 0, 0, 0, 0, 0, 0, 1, 1, 1, 0, 1, 0, 0, 0, 1, 1, 1, 0, 1, 0, 1, 0, 0, 0, 0, 0, 0, 0, 0, 0, 1, 0, 0, 1, 0, 1, 1, 0, 0, 1, 0, 1, 0, 0, 0, 1, 1, 0, 0, 0, 0, 1, 1, 1, 1, 0, 1, 0, 1, 0, 0, 0, 1, 0, 0, 0, 1, 0, 1, 1, 0, 0, 0, 0, 1, 0, 0, 0, 0, 0, 0, 0, 1, 0, 1, 0, 0, 1, 1, 0, 0, 0, 0, 1, 0, 0, 1, 0, 0, 0, 0, 1, 1, 0, 0, 1, 1, 1, 0, 0, 1, 0, 1, 0, 0, 0, 1, 0, 0, 0, 0, 0, 0, 1, 0, 0, 0, 0, 0, 0, 0, 0, 1, 1, 1, 0, 0, 1, 0, 0, 0, 1, 0, 0, 0, 1, 0, 1, 0, 0, 0, 0, 0, 0, 0, 0, 0, 0, 0, 0, 1, 0, 0, 1, 0, 0, 0, 0, 0, 0, 0, 0, 0, 0, 1, 1, 1, 1, 1, 0, 1, 0, 0, 0, 1, 0, 0, 0, 0, 1, 0, 0, 0, 0, 0, 0, 0, 0, 0, 0, 0, 1, 0, 1, 0, 0, 0, 0, 0, 0, 0, 0, 0, 0, 0, 1, 1, 0, 1, 1, 1, 0, 0, 0, 0, 1, 1, 0, 0, 0]\n",
      "The accuracy score achieved using Neural Network is: 1 %\n"
     ]
    }
   ],
   "source": [
    "print(Y_pred_nn)\n",
    "rounded = [round(x[0]) for x in Y_pred_nn]\n",
    "print(rounded)\n",
    "\n",
    "Y_pred_nn = rounded\n",
    "score_nn = round(accuracy_score(Y_pred_nn,y_test)*100,2)\n",
    "\n",
    "print(\"The accuracy score achieved using Neural Network is: \"+str(round(score_nn,2))+\" %\")"
   ]
  },
  {
   "cell_type": "markdown",
   "metadata": {
    "id": "y8q7o8SBIRqo"
   },
   "source": [
    "# Iterative Imputer"
   ]
  },
  {
   "cell_type": "code",
   "execution_count": null,
   "metadata": {
    "colab": {
     "base_uri": "https://localhost:8080/",
     "height": 497
    },
    "id": "Wa2Y0tqFKTfU",
    "outputId": "a186f039-d2cc-4fc0-906e-69e67955e0c4"
   },
   "outputs": [
    {
     "ename": "TypeError",
     "evalue": "ignored",
     "output_type": "error",
     "traceback": [
      "\u001b[0;31m---------------------------------------------------------------------------\u001b[0m",
      "\u001b[0;31mTypeError\u001b[0m                                 Traceback (most recent call last)",
      "\u001b[0;32m<ipython-input-53-eb94179d3465>\u001b[0m in \u001b[0;36m<module>\u001b[0;34m()\u001b[0m\n\u001b[1;32m     13\u001b[0m \u001b[0mX\u001b[0m \u001b[0;34m=\u001b[0m \u001b[0mit_imp\u001b[0m\u001b[0;34m.\u001b[0m\u001b[0mfit\u001b[0m\u001b[0;34m(\u001b[0m\u001b[0mX\u001b[0m\u001b[0;34m)\u001b[0m\u001b[0;34m\u001b[0m\u001b[0;34m\u001b[0m\u001b[0m\n\u001b[1;32m     14\u001b[0m \u001b[0;34m\u001b[0m\u001b[0m\n\u001b[0;32m---> 15\u001b[0;31m \u001b[0mX_train\u001b[0m\u001b[0;34m,\u001b[0m \u001b[0mX_test\u001b[0m\u001b[0;34m,\u001b[0m \u001b[0my_train\u001b[0m\u001b[0;34m,\u001b[0m \u001b[0my_test\u001b[0m \u001b[0;34m=\u001b[0m \u001b[0mtrain_test_split\u001b[0m\u001b[0;34m(\u001b[0m\u001b[0mX\u001b[0m\u001b[0;34m,\u001b[0m \u001b[0my\u001b[0m\u001b[0;34m,\u001b[0m \u001b[0mtest_size\u001b[0m\u001b[0;34m=\u001b[0m\u001b[0;36m0.2\u001b[0m\u001b[0;34m,\u001b[0m \u001b[0mrandom_state\u001b[0m\u001b[0;34m=\u001b[0m\u001b[0;36m1\u001b[0m\u001b[0;34m)\u001b[0m\u001b[0;34m\u001b[0m\u001b[0;34m\u001b[0m\u001b[0m\n\u001b[0m\u001b[1;32m     16\u001b[0m \u001b[0;34m\u001b[0m\u001b[0m\n\u001b[1;32m     17\u001b[0m \u001b[0mclf\u001b[0m \u001b[0;34m=\u001b[0m \u001b[0mLogisticRegression\u001b[0m\u001b[0;34m(\u001b[0m\u001b[0;34m)\u001b[0m\u001b[0;34m.\u001b[0m\u001b[0mfit\u001b[0m\u001b[0;34m(\u001b[0m\u001b[0mX_train\u001b[0m\u001b[0;34m,\u001b[0m \u001b[0my_train\u001b[0m\u001b[0;34m)\u001b[0m\u001b[0;34m\u001b[0m\u001b[0;34m\u001b[0m\u001b[0m\n",
      "\u001b[0;32m/usr/local/lib/python3.7/dist-packages/sklearn/model_selection/_split.py\u001b[0m in \u001b[0;36mtrain_test_split\u001b[0;34m(*arrays, **options)\u001b[0m\n\u001b[1;32m   2116\u001b[0m         \u001b[0;32mraise\u001b[0m \u001b[0mTypeError\u001b[0m\u001b[0;34m(\u001b[0m\u001b[0;34m\"Invalid parameters passed: %s\"\u001b[0m \u001b[0;34m%\u001b[0m \u001b[0mstr\u001b[0m\u001b[0;34m(\u001b[0m\u001b[0moptions\u001b[0m\u001b[0;34m)\u001b[0m\u001b[0;34m)\u001b[0m\u001b[0;34m\u001b[0m\u001b[0;34m\u001b[0m\u001b[0m\n\u001b[1;32m   2117\u001b[0m \u001b[0;34m\u001b[0m\u001b[0m\n\u001b[0;32m-> 2118\u001b[0;31m     \u001b[0marrays\u001b[0m \u001b[0;34m=\u001b[0m \u001b[0mindexable\u001b[0m\u001b[0;34m(\u001b[0m\u001b[0;34m*\u001b[0m\u001b[0marrays\u001b[0m\u001b[0;34m)\u001b[0m\u001b[0;34m\u001b[0m\u001b[0;34m\u001b[0m\u001b[0m\n\u001b[0m\u001b[1;32m   2119\u001b[0m \u001b[0;34m\u001b[0m\u001b[0m\n\u001b[1;32m   2120\u001b[0m     \u001b[0mn_samples\u001b[0m \u001b[0;34m=\u001b[0m \u001b[0m_num_samples\u001b[0m\u001b[0;34m(\u001b[0m\u001b[0marrays\u001b[0m\u001b[0;34m[\u001b[0m\u001b[0;36m0\u001b[0m\u001b[0;34m]\u001b[0m\u001b[0;34m)\u001b[0m\u001b[0;34m\u001b[0m\u001b[0;34m\u001b[0m\u001b[0m\n",
      "\u001b[0;32m/usr/local/lib/python3.7/dist-packages/sklearn/utils/validation.py\u001b[0m in \u001b[0;36mindexable\u001b[0;34m(*iterables)\u001b[0m\n\u001b[1;32m    246\u001b[0m     \"\"\"\n\u001b[1;32m    247\u001b[0m     \u001b[0mresult\u001b[0m \u001b[0;34m=\u001b[0m \u001b[0;34m[\u001b[0m\u001b[0m_make_indexable\u001b[0m\u001b[0;34m(\u001b[0m\u001b[0mX\u001b[0m\u001b[0;34m)\u001b[0m \u001b[0;32mfor\u001b[0m \u001b[0mX\u001b[0m \u001b[0;32min\u001b[0m \u001b[0miterables\u001b[0m\u001b[0;34m]\u001b[0m\u001b[0;34m\u001b[0m\u001b[0;34m\u001b[0m\u001b[0m\n\u001b[0;32m--> 248\u001b[0;31m     \u001b[0mcheck_consistent_length\u001b[0m\u001b[0;34m(\u001b[0m\u001b[0;34m*\u001b[0m\u001b[0mresult\u001b[0m\u001b[0;34m)\u001b[0m\u001b[0;34m\u001b[0m\u001b[0;34m\u001b[0m\u001b[0m\n\u001b[0m\u001b[1;32m    249\u001b[0m     \u001b[0;32mreturn\u001b[0m \u001b[0mresult\u001b[0m\u001b[0;34m\u001b[0m\u001b[0;34m\u001b[0m\u001b[0m\n\u001b[1;32m    250\u001b[0m \u001b[0;34m\u001b[0m\u001b[0m\n",
      "\u001b[0;32m/usr/local/lib/python3.7/dist-packages/sklearn/utils/validation.py\u001b[0m in \u001b[0;36mcheck_consistent_length\u001b[0;34m(*arrays)\u001b[0m\n\u001b[1;32m    206\u001b[0m     \"\"\"\n\u001b[1;32m    207\u001b[0m \u001b[0;34m\u001b[0m\u001b[0m\n\u001b[0;32m--> 208\u001b[0;31m     \u001b[0mlengths\u001b[0m \u001b[0;34m=\u001b[0m \u001b[0;34m[\u001b[0m\u001b[0m_num_samples\u001b[0m\u001b[0;34m(\u001b[0m\u001b[0mX\u001b[0m\u001b[0;34m)\u001b[0m \u001b[0;32mfor\u001b[0m \u001b[0mX\u001b[0m \u001b[0;32min\u001b[0m \u001b[0marrays\u001b[0m \u001b[0;32mif\u001b[0m \u001b[0mX\u001b[0m \u001b[0;32mis\u001b[0m \u001b[0;32mnot\u001b[0m \u001b[0;32mNone\u001b[0m\u001b[0;34m]\u001b[0m\u001b[0;34m\u001b[0m\u001b[0;34m\u001b[0m\u001b[0m\n\u001b[0m\u001b[1;32m    209\u001b[0m     \u001b[0muniques\u001b[0m \u001b[0;34m=\u001b[0m \u001b[0mnp\u001b[0m\u001b[0;34m.\u001b[0m\u001b[0munique\u001b[0m\u001b[0;34m(\u001b[0m\u001b[0mlengths\u001b[0m\u001b[0;34m)\u001b[0m\u001b[0;34m\u001b[0m\u001b[0;34m\u001b[0m\u001b[0m\n\u001b[1;32m    210\u001b[0m     \u001b[0;32mif\u001b[0m \u001b[0mlen\u001b[0m\u001b[0;34m(\u001b[0m\u001b[0muniques\u001b[0m\u001b[0;34m)\u001b[0m \u001b[0;34m>\u001b[0m \u001b[0;36m1\u001b[0m\u001b[0;34m:\u001b[0m\u001b[0;34m\u001b[0m\u001b[0;34m\u001b[0m\u001b[0m\n",
      "\u001b[0;32m/usr/local/lib/python3.7/dist-packages/sklearn/utils/validation.py\u001b[0m in \u001b[0;36m<listcomp>\u001b[0;34m(.0)\u001b[0m\n\u001b[1;32m    206\u001b[0m     \"\"\"\n\u001b[1;32m    207\u001b[0m \u001b[0;34m\u001b[0m\u001b[0m\n\u001b[0;32m--> 208\u001b[0;31m     \u001b[0mlengths\u001b[0m \u001b[0;34m=\u001b[0m \u001b[0;34m[\u001b[0m\u001b[0m_num_samples\u001b[0m\u001b[0;34m(\u001b[0m\u001b[0mX\u001b[0m\u001b[0;34m)\u001b[0m \u001b[0;32mfor\u001b[0m \u001b[0mX\u001b[0m \u001b[0;32min\u001b[0m \u001b[0marrays\u001b[0m \u001b[0;32mif\u001b[0m \u001b[0mX\u001b[0m \u001b[0;32mis\u001b[0m \u001b[0;32mnot\u001b[0m \u001b[0;32mNone\u001b[0m\u001b[0;34m]\u001b[0m\u001b[0;34m\u001b[0m\u001b[0;34m\u001b[0m\u001b[0m\n\u001b[0m\u001b[1;32m    209\u001b[0m     \u001b[0muniques\u001b[0m \u001b[0;34m=\u001b[0m \u001b[0mnp\u001b[0m\u001b[0;34m.\u001b[0m\u001b[0munique\u001b[0m\u001b[0;34m(\u001b[0m\u001b[0mlengths\u001b[0m\u001b[0;34m)\u001b[0m\u001b[0;34m\u001b[0m\u001b[0;34m\u001b[0m\u001b[0m\n\u001b[1;32m    210\u001b[0m     \u001b[0;32mif\u001b[0m \u001b[0mlen\u001b[0m\u001b[0;34m(\u001b[0m\u001b[0muniques\u001b[0m\u001b[0;34m)\u001b[0m \u001b[0;34m>\u001b[0m \u001b[0;36m1\u001b[0m\u001b[0;34m:\u001b[0m\u001b[0;34m\u001b[0m\u001b[0;34m\u001b[0m\u001b[0m\n",
      "\u001b[0;32m/usr/local/lib/python3.7/dist-packages/sklearn/utils/validation.py\u001b[0m in \u001b[0;36m_num_samples\u001b[0;34m(x)\u001b[0m\n\u001b[1;32m    150\u001b[0m         \u001b[0;32mif\u001b[0m \u001b[0mlen\u001b[0m\u001b[0;34m(\u001b[0m\u001b[0mx\u001b[0m\u001b[0;34m.\u001b[0m\u001b[0mshape\u001b[0m\u001b[0;34m)\u001b[0m \u001b[0;34m==\u001b[0m \u001b[0;36m0\u001b[0m\u001b[0;34m:\u001b[0m\u001b[0;34m\u001b[0m\u001b[0;34m\u001b[0m\u001b[0m\n\u001b[1;32m    151\u001b[0m             raise TypeError(\"Singleton array %r cannot be considered\"\n\u001b[0;32m--> 152\u001b[0;31m                             \" a valid collection.\" % x)\n\u001b[0m\u001b[1;32m    153\u001b[0m         \u001b[0;31m# Check that shape is returning an integer or default to len\u001b[0m\u001b[0;34m\u001b[0m\u001b[0;34m\u001b[0m\u001b[0;34m\u001b[0m\u001b[0m\n\u001b[1;32m    154\u001b[0m         \u001b[0;31m# Dask dataframes may not return numeric shape[0] value\u001b[0m\u001b[0;34m\u001b[0m\u001b[0;34m\u001b[0m\u001b[0;34m\u001b[0m\u001b[0m\n",
      "\u001b[0;31mTypeError\u001b[0m: Singleton array array(IterativeImputer(add_indicator=False, estimator=None,\n                 imputation_order='ascending', initial_strategy='mean',\n                 max_iter=10, max_value=None, min_value=None,\n                 missing_values=nan, n_nearest_features=None, random_state=0,\n                 sample_posterior=False, skip_complete=False, tol=0.001,\n                 verbose=0), dtype=object) cannot be considered a valid collection."
     ]
    }
   ],
   "source": [
    "from sklearn.model_selection import train_test_split\n",
    "from sklearn.linear_model import LogisticRegression\n",
    "\n",
    "from sklearn.experimental import enable_iterative_imputer  \n",
    "from sklearn.impute import IterativeImputer\n",
    "\n",
    "\n",
    "\n",
    "X = df_test1.drop(columns = ['Potability'], axis = 1)\n",
    "y = df_test1['Potability'].apply(lambda x:str(x))\n",
    "\n",
    "it_imp = IterativeImputer(max_iter = 10, random_state = 0)\n",
    "X = it_imp.fit(X)\n",
    "\n",
    "X_train, X_test, y_train, y_test = train_test_split(X, y, test_size=0.2, random_state=1)\n",
    "\n",
    "clf = LogisticRegression().fit(X_train, y_train)\n",
    "score = clf.score(X_test, y_test)"
   ]
  },
  {
   "cell_type": "code",
   "execution_count": null,
   "metadata": {
    "id": "PQsPbtbfIVLX"
   },
   "outputs": [],
   "source": []
  },
  {
   "cell_type": "markdown",
   "metadata": {
    "id": "uGRPMdd5vRiw"
   },
   "source": [
    "## Corrélations"
   ]
  },
  {
   "cell_type": "markdown",
   "metadata": {
    "id": "pFzcqs2bF_Je"
   },
   "source": [
    "# Scores"
   ]
  },
  {
   "cell_type": "code",
   "execution_count": null,
   "metadata": {
    "id": "rDK34VYRGCsD"
   },
   "outputs": [],
   "source": [
    "#tn, fp, fn, tp = confusion_matrix(  ).ravel()"
   ]
  },
  {
   "cell_type": "code",
   "execution_count": null,
   "metadata": {
    "id": "ktveTifvvGEo"
   },
   "outputs": [],
   "source": [
    "water_potability_copy = train_set.copy()"
   ]
  },
  {
   "cell_type": "code",
   "execution_count": null,
   "metadata": {
    "id": "7izjQCUyvJS8"
   },
   "outputs": [],
   "source": [
    "corr_matrix = water_potability_copy.corr()"
   ]
  },
  {
   "cell_type": "code",
   "execution_count": null,
   "metadata": {
    "colab": {
     "base_uri": "https://localhost:8080/"
    },
    "id": "qx4GjSvAvLam",
    "outputId": "0477b91d-5a90-46b1-932a-bb2d399ae34f"
   },
   "outputs": [
    {
     "data": {
      "text/plain": [
       "Potability         1.000000\n",
       "Solids             0.038527\n",
       "Chloramines        0.015316\n",
       "Trihalomethanes    0.013292\n",
       "Conductivity      -0.002563\n",
       "Turbidity         -0.004221\n",
       "ph                -0.012945\n",
       "Hardness          -0.016987\n",
       "Sulfate           -0.021479\n",
       "Organic_carbon    -0.027225\n",
       "Name: Potability, dtype: float64"
      ]
     },
     "execution_count": 21,
     "metadata": {},
     "output_type": "execute_result"
    }
   ],
   "source": [
    "corr_matrix[\"Potability\"].sort_values(ascending=False)"
   ]
  },
  {
   "cell_type": "code",
   "execution_count": null,
   "metadata": {
    "id": "b4YyNnAGvOa2"
   },
   "outputs": [],
   "source": []
  },
  {
   "cell_type": "code",
   "execution_count": null,
   "metadata": {},
   "outputs": [],
   "source": [
    "gb = GradientBoostingClassifier(random_state=1)\n",
    "param_grid = {\n",
    "    \"max_depth\": [3,5],\n",
    "    \"min_samples_split\": [10,20, 50],\n",
    "    \"min_samples_leaf\": [30,50],\n",
    "    \"n_estimators\": [50,100],\n",
    "    \"learning_rate\": [0.01, 0.05, 0.1]\n",
    "}\n",
    "\n",
    "cv = GridSearchCV(estimator=gb, param_grid=param_grid,cv=5,scoring='balanced_accuracy',verbose=10,n_jobs=-1).fit(X_train,y_train)"
   ]
  },
  {
   "cell_type": "code",
   "execution_count": null,
   "metadata": {},
   "outputs": [],
   "source": [
    "dt = DecisionTreeClassifier(random_state=1)\n",
    "params = {\n",
    "    \"min_samples_split\": [10,20,100],\n",
    "    \"max_depth\": [5,10,50],\n",
    "    \"min_samples_leaf\": [10,20,50],\n",
    "    \"max_leaf_nodes\": [10,20,100]\n",
    "}\n",
    "\n",
    "dt_grid = GridSearchCV(estimator=dt,param_grid=params,cv=5,scoring='balanced_accuracy',verbose=10,n_jobs = -1).fit(X_train,y_train)"
   ]
  },
  {
   "cell_type": "code",
   "execution_count": null,
   "metadata": {},
   "outputs": [],
   "source": [
    "res = pd.DataFrame({\n",
    "    'Model Accuracy': accuracy_score, \n",
    "    \"Model Name\": ['LogisticRegression', 'KNeighborsClassifier', 'SVM', 'Decision Tree', 'Random Forest', 'Ada Boost', 'MLP']\n",
    "})"
   ]
  }
 ],
 "metadata": {
  "colab": {
   "collapsed_sections": [],
   "name": "Projet_potabilité_de_l'eau.ipynb",
   "provenance": []
  },
  "kernelspec": {
   "display_name": "Python 3",
   "language": "python",
   "name": "python3"
  },
  "language_info": {
   "codemirror_mode": {
    "name": "ipython",
    "version": 3
   },
   "file_extension": ".py",
   "mimetype": "text/x-python",
   "name": "python",
   "nbconvert_exporter": "python",
   "pygments_lexer": "ipython3",
   "version": "3.8.3"
  }
 },
 "nbformat": 4,
 "nbformat_minor": 1
}
